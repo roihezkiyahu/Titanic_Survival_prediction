{
 "cells": [
  {
   "cell_type": "code",
   "execution_count": 1,
   "id": "ba252ef7",
   "metadata": {
    "_cell_guid": "624ac018-6794-4efe-b3eb-d738e1408708",
    "_uuid": "2721ecab-8330-4ebb-b746-74b137ee1486",
    "collapsed": false,
    "execution": {
     "iopub.execute_input": "2021-09-30T09:35:06.153223Z",
     "iopub.status.busy": "2021-09-30T09:35:06.150791Z",
     "iopub.status.idle": "2021-09-30T09:35:15.695096Z",
     "shell.execute_reply": "2021-09-30T09:35:15.694027Z",
     "shell.execute_reply.started": "2021-09-30T07:50:29.017306Z"
    },
    "jupyter": {
     "outputs_hidden": false
    },
    "papermill": {
     "duration": 9.590257,
     "end_time": "2021-09-30T09:35:15.695271",
     "exception": false,
     "start_time": "2021-09-30T09:35:06.105014",
     "status": "completed"
    },
    "tags": []
   },
   "outputs": [
    {
     "data": {
      "text/html": [
       "<style type='text/css'>\n",
       ".datatable table.frame { margin-bottom: 0; }\n",
       ".datatable table.frame thead { border-bottom: none; }\n",
       ".datatable table.frame tr.coltypes td {  color: #FFFFFF;  line-height: 6px;  padding: 0 0.5em;}\n",
       ".datatable .bool    { background: #DDDD99; }\n",
       ".datatable .object  { background: #565656; }\n",
       ".datatable .int     { background: #5D9E5D; }\n",
       ".datatable .float   { background: #4040CC; }\n",
       ".datatable .str     { background: #CC4040; }\n",
       ".datatable .time    { background: #40CC40; }\n",
       ".datatable .row_index {  background: var(--jp-border-color3);  border-right: 1px solid var(--jp-border-color0);  color: var(--jp-ui-font-color3);  font-size: 9px;}\n",
       ".datatable .frame tbody td { text-align: left; }\n",
       ".datatable .frame tr.coltypes .row_index {  background: var(--jp-border-color0);}\n",
       ".datatable th:nth-child(2) { padding-left: 12px; }\n",
       ".datatable .hellipsis {  color: var(--jp-cell-editor-border-color);}\n",
       ".datatable .vellipsis {  background: var(--jp-layout-color0);  color: var(--jp-cell-editor-border-color);}\n",
       ".datatable .na {  color: var(--jp-cell-editor-border-color);  font-size: 80%;}\n",
       ".datatable .sp {  opacity: 0.25;}\n",
       ".datatable .footer { font-size: 9px; }\n",
       ".datatable .frame_dimensions {  background: var(--jp-border-color3);  border-top: 1px solid var(--jp-border-color0);  color: var(--jp-ui-font-color3);  display: inline-block;  opacity: 0.6;  padding: 1px 10px 1px 5px;}\n",
       "</style>\n"
      ],
      "text/plain": [
       "<IPython.core.display.HTML object>"
      ]
     },
     "metadata": {},
     "output_type": "display_data"
    },
    {
     "name": "stderr",
     "output_type": "stream",
     "text": [
      "2021-09-30 09:35:11.156220: W tensorflow/stream_executor/platform/default/dso_loader.cc:60] Could not load dynamic library 'libcudart.so.11.0'; dlerror: libcudart.so.11.0: cannot open shared object file: No such file or directory; LD_LIBRARY_PATH: /opt/conda/lib\n",
      "2021-09-30 09:35:11.156345: I tensorflow/stream_executor/cuda/cudart_stub.cc:29] Ignore above cudart dlerror if you do not have a GPU set up on your machine.\n"
     ]
    }
   ],
   "source": [
    "#for data processing\n",
    "import numpy as np \n",
    "import pandas as pd \n",
    "from sklearn.preprocessing import LabelEncoder\n",
    "from sklearn.model_selection import train_test_split\n",
    "from math import isnan\n",
    "#pd.set_option('display.max_rows', 100) # for displaying full dataset\n",
    "\n",
    "#for feature engineering\n",
    "from sklearn.feature_selection import mutual_info_regression\n",
    "def make_mi_scores(X, y, discrete_features): # from feature engeneering course\n",
    "    mi_scores = mutual_info_regression(X, y, discrete_features=discrete_features)\n",
    "    mi_scores = pd.Series(mi_scores, name=\"MI Scores\", index=X.columns)\n",
    "    mi_scores = mi_scores.sort_values(ascending=False)\n",
    "    return mi_scores\n",
    "import eli5\n",
    "from eli5.sklearn import PermutationImportance\n",
    "import shap\n",
    "\n",
    "#for model creation and evaluation\n",
    "from sklearn.ensemble import GradientBoostingClassifier # for XGboost model\n",
    "from sklearn.linear_model import LogisticRegression # for logistic regression model\n",
    "from sklearn.svm import SVC # for SVM model\n",
    "from sklearn.neighbors import KNeighborsClassifier # for KNN\n",
    "from sklearn.naive_bayes import GaussianNB # for NB\n",
    "from sklearn.ensemble import VotingClassifier\n",
    "from sklearn.metrics import accuracy_score,make_scorer\n",
    "from sklearn.model_selection import cross_val_score,GridSearchCV\n",
    "\n",
    "# for plotting the data\n",
    "import matplotlib.pyplot as plt\n",
    "import seaborn as sns \n",
    "%matplotlib inline"
   ]
  },
  {
   "cell_type": "code",
   "execution_count": 2,
   "id": "840595b5",
   "metadata": {
    "_cell_guid": "405f6132-2a19-4c2f-9877-049023a50913",
    "_uuid": "4a5b788e-4c12-45c1-b01e-c17662c7d8c0",
    "execution": {
     "iopub.execute_input": "2021-09-30T09:35:15.762405Z",
     "iopub.status.busy": "2021-09-30T09:35:15.759360Z",
     "iopub.status.idle": "2021-09-30T09:35:15.824860Z",
     "shell.execute_reply": "2021-09-30T09:35:15.824203Z",
     "shell.execute_reply.started": "2021-09-30T07:50:29.042058Z"
    },
    "papermill": {
     "duration": 0.098252,
     "end_time": "2021-09-30T09:35:15.824999",
     "exception": false,
     "start_time": "2021-09-30T09:35:15.726747",
     "status": "completed"
    },
    "tags": []
   },
   "outputs": [
    {
     "data": {
      "text/html": [
       "<div>\n",
       "<style scoped>\n",
       "    .dataframe tbody tr th:only-of-type {\n",
       "        vertical-align: middle;\n",
       "    }\n",
       "\n",
       "    .dataframe tbody tr th {\n",
       "        vertical-align: top;\n",
       "    }\n",
       "\n",
       "    .dataframe thead th {\n",
       "        text-align: right;\n",
       "    }\n",
       "</style>\n",
       "<table border=\"1\" class=\"dataframe\">\n",
       "  <thead>\n",
       "    <tr style=\"text-align: right;\">\n",
       "      <th></th>\n",
       "      <th>PassengerId</th>\n",
       "      <th>Survived</th>\n",
       "      <th>Pclass</th>\n",
       "      <th>Name</th>\n",
       "      <th>Sex</th>\n",
       "      <th>Age</th>\n",
       "      <th>SibSp</th>\n",
       "      <th>Parch</th>\n",
       "      <th>Ticket</th>\n",
       "      <th>Fare</th>\n",
       "      <th>Cabin</th>\n",
       "      <th>Embarked</th>\n",
       "    </tr>\n",
       "  </thead>\n",
       "  <tbody>\n",
       "    <tr>\n",
       "      <th>0</th>\n",
       "      <td>1</td>\n",
       "      <td>0</td>\n",
       "      <td>3</td>\n",
       "      <td>Braund, Mr. Owen Harris</td>\n",
       "      <td>male</td>\n",
       "      <td>22.0</td>\n",
       "      <td>1</td>\n",
       "      <td>0</td>\n",
       "      <td>A/5 21171</td>\n",
       "      <td>7.2500</td>\n",
       "      <td>NaN</td>\n",
       "      <td>S</td>\n",
       "    </tr>\n",
       "    <tr>\n",
       "      <th>1</th>\n",
       "      <td>2</td>\n",
       "      <td>1</td>\n",
       "      <td>1</td>\n",
       "      <td>Cumings, Mrs. John Bradley (Florence Briggs Th...</td>\n",
       "      <td>female</td>\n",
       "      <td>38.0</td>\n",
       "      <td>1</td>\n",
       "      <td>0</td>\n",
       "      <td>PC 17599</td>\n",
       "      <td>71.2833</td>\n",
       "      <td>C85</td>\n",
       "      <td>C</td>\n",
       "    </tr>\n",
       "    <tr>\n",
       "      <th>2</th>\n",
       "      <td>3</td>\n",
       "      <td>1</td>\n",
       "      <td>3</td>\n",
       "      <td>Heikkinen, Miss. Laina</td>\n",
       "      <td>female</td>\n",
       "      <td>26.0</td>\n",
       "      <td>0</td>\n",
       "      <td>0</td>\n",
       "      <td>STON/O2. 3101282</td>\n",
       "      <td>7.9250</td>\n",
       "      <td>NaN</td>\n",
       "      <td>S</td>\n",
       "    </tr>\n",
       "    <tr>\n",
       "      <th>3</th>\n",
       "      <td>4</td>\n",
       "      <td>1</td>\n",
       "      <td>1</td>\n",
       "      <td>Futrelle, Mrs. Jacques Heath (Lily May Peel)</td>\n",
       "      <td>female</td>\n",
       "      <td>35.0</td>\n",
       "      <td>1</td>\n",
       "      <td>0</td>\n",
       "      <td>113803</td>\n",
       "      <td>53.1000</td>\n",
       "      <td>C123</td>\n",
       "      <td>S</td>\n",
       "    </tr>\n",
       "    <tr>\n",
       "      <th>4</th>\n",
       "      <td>5</td>\n",
       "      <td>0</td>\n",
       "      <td>3</td>\n",
       "      <td>Allen, Mr. William Henry</td>\n",
       "      <td>male</td>\n",
       "      <td>35.0</td>\n",
       "      <td>0</td>\n",
       "      <td>0</td>\n",
       "      <td>373450</td>\n",
       "      <td>8.0500</td>\n",
       "      <td>NaN</td>\n",
       "      <td>S</td>\n",
       "    </tr>\n",
       "  </tbody>\n",
       "</table>\n",
       "</div>"
      ],
      "text/plain": [
       "   PassengerId  Survived  Pclass  \\\n",
       "0            1         0       3   \n",
       "1            2         1       1   \n",
       "2            3         1       3   \n",
       "3            4         1       1   \n",
       "4            5         0       3   \n",
       "\n",
       "                                                Name     Sex   Age  SibSp  \\\n",
       "0                            Braund, Mr. Owen Harris    male  22.0      1   \n",
       "1  Cumings, Mrs. John Bradley (Florence Briggs Th...  female  38.0      1   \n",
       "2                             Heikkinen, Miss. Laina  female  26.0      0   \n",
       "3       Futrelle, Mrs. Jacques Heath (Lily May Peel)  female  35.0      1   \n",
       "4                           Allen, Mr. William Henry    male  35.0      0   \n",
       "\n",
       "   Parch            Ticket     Fare Cabin Embarked  \n",
       "0      0         A/5 21171   7.2500   NaN        S  \n",
       "1      0          PC 17599  71.2833   C85        C  \n",
       "2      0  STON/O2. 3101282   7.9250   NaN        S  \n",
       "3      0            113803  53.1000  C123        S  \n",
       "4      0            373450   8.0500   NaN        S  "
      ]
     },
     "execution_count": 2,
     "metadata": {},
     "output_type": "execute_result"
    }
   ],
   "source": [
    "raw_data_train = pd.read_csv(\"/kaggle/input/titanic/train.csv\")\n",
    "raw_data_test = pd.read_csv(\"/kaggle/input/titanic/test.csv\")\n",
    "train_data = pd.read_csv(\"/kaggle/input/titanic/train.csv\")\n",
    "test_data = pd.read_csv(\"/kaggle/input/titanic/test.csv\")\n",
    "fulldata = pd.concat([raw_data_train,raw_data_test])\n",
    "train_index = fulldata[\"Survived\"].isna() == False\n",
    "test_index = fulldata[\"Survived\"].isna()\n",
    "train_data.head()"
   ]
  },
  {
   "cell_type": "markdown",
   "id": "f523cad9",
   "metadata": {
    "_cell_guid": "abbb6c5f-290b-498d-953a-deb9bd758ea9",
    "_uuid": "881f65f3-234a-4466-a019-0ca18b5f5a24",
    "papermill": {
     "duration": 0.029308,
     "end_time": "2021-09-30T09:35:15.884164",
     "exception": false,
     "start_time": "2021-09-30T09:35:15.854856",
     "status": "completed"
    },
    "tags": []
   },
   "source": [
    "# 1. *Let's get familiar with the data*"
   ]
  },
  {
   "cell_type": "code",
   "execution_count": 3,
   "id": "c6f762a2",
   "metadata": {
    "_cell_guid": "3342a0bc-89d0-4317-ad96-d59825e96a88",
    "_uuid": "718c2713-696f-4e90-8177-b2ba0163d92c",
    "execution": {
     "iopub.execute_input": "2021-09-30T09:35:15.946222Z",
     "iopub.status.busy": "2021-09-30T09:35:15.945607Z",
     "iopub.status.idle": "2021-09-30T09:35:15.961660Z",
     "shell.execute_reply": "2021-09-30T09:35:15.962139Z",
     "shell.execute_reply.started": "2021-09-30T07:50:29.124044Z"
    },
    "papermill": {
     "duration": 0.048746,
     "end_time": "2021-09-30T09:35:15.962303",
     "exception": false,
     "start_time": "2021-09-30T09:35:15.913557",
     "status": "completed"
    },
    "tags": []
   },
   "outputs": [
    {
     "name": "stdout",
     "output_type": "stream",
     "text": [
      "<class 'pandas.core.frame.DataFrame'>\n",
      "RangeIndex: 891 entries, 0 to 890\n",
      "Data columns (total 12 columns):\n",
      " #   Column       Non-Null Count  Dtype  \n",
      "---  ------       --------------  -----  \n",
      " 0   PassengerId  891 non-null    int64  \n",
      " 1   Survived     891 non-null    int64  \n",
      " 2   Pclass       891 non-null    int64  \n",
      " 3   Name         891 non-null    object \n",
      " 4   Sex          891 non-null    object \n",
      " 5   Age          714 non-null    float64\n",
      " 6   SibSp        891 non-null    int64  \n",
      " 7   Parch        891 non-null    int64  \n",
      " 8   Ticket       891 non-null    object \n",
      " 9   Fare         891 non-null    float64\n",
      " 10  Cabin        204 non-null    object \n",
      " 11  Embarked     889 non-null    object \n",
      "dtypes: float64(2), int64(5), object(5)\n",
      "memory usage: 83.7+ KB\n"
     ]
    }
   ],
   "source": [
    "train_data.info()"
   ]
  },
  {
   "cell_type": "code",
   "execution_count": 4,
   "id": "192b61a3",
   "metadata": {
    "execution": {
     "iopub.execute_input": "2021-09-30T09:35:16.027790Z",
     "iopub.status.busy": "2021-09-30T09:35:16.027134Z",
     "iopub.status.idle": "2021-09-30T09:35:16.037544Z",
     "shell.execute_reply": "2021-09-30T09:35:16.037023Z",
     "shell.execute_reply.started": "2021-09-30T07:50:29.152732Z"
    },
    "papermill": {
     "duration": 0.045394,
     "end_time": "2021-09-30T09:35:16.037709",
     "exception": false,
     "start_time": "2021-09-30T09:35:15.992315",
     "status": "completed"
    },
    "tags": []
   },
   "outputs": [
    {
     "name": "stdout",
     "output_type": "stream",
     "text": [
      "<class 'pandas.core.frame.DataFrame'>\n",
      "RangeIndex: 418 entries, 0 to 417\n",
      "Data columns (total 11 columns):\n",
      " #   Column       Non-Null Count  Dtype  \n",
      "---  ------       --------------  -----  \n",
      " 0   PassengerId  418 non-null    int64  \n",
      " 1   Pclass       418 non-null    int64  \n",
      " 2   Name         418 non-null    object \n",
      " 3   Sex          418 non-null    object \n",
      " 4   Age          332 non-null    float64\n",
      " 5   SibSp        418 non-null    int64  \n",
      " 6   Parch        418 non-null    int64  \n",
      " 7   Ticket       418 non-null    object \n",
      " 8   Fare         417 non-null    float64\n",
      " 9   Cabin        91 non-null     object \n",
      " 10  Embarked     418 non-null    object \n",
      "dtypes: float64(2), int64(4), object(5)\n",
      "memory usage: 36.0+ KB\n"
     ]
    }
   ],
   "source": [
    "test_data.info()"
   ]
  },
  {
   "cell_type": "markdown",
   "id": "9a6131a0",
   "metadata": {
    "papermill": {
     "duration": 0.03008,
     "end_time": "2021-09-30T09:35:16.097849",
     "exception": false,
     "start_time": "2021-09-30T09:35:16.067769",
     "status": "completed"
    },
    "tags": []
   },
   "source": [
    "we have missing values in both the data_sets, and the test set size is about 50% of the train set size"
   ]
  },
  {
   "cell_type": "code",
   "execution_count": 5,
   "id": "e40a354c",
   "metadata": {
    "_cell_guid": "600cf5d4-c5ee-4ea0-a097-2c6552a41967",
    "_uuid": "5f9d4bee-94c2-40f4-ae37-318464ef6ee8",
    "execution": {
     "iopub.execute_input": "2021-09-30T09:35:16.166813Z",
     "iopub.status.busy": "2021-09-30T09:35:16.161619Z",
     "iopub.status.idle": "2021-09-30T09:35:16.170517Z",
     "shell.execute_reply": "2021-09-30T09:35:16.170073Z",
     "shell.execute_reply.started": "2021-09-30T07:50:29.174081Z"
    },
    "papermill": {
     "duration": 0.042719,
     "end_time": "2021-09-30T09:35:16.170676",
     "exception": false,
     "start_time": "2021-09-30T09:35:16.127957",
     "status": "completed"
    },
    "tags": []
   },
   "outputs": [
    {
     "data": {
      "text/plain": [
       "PassengerId      0\n",
       "Survived         0\n",
       "Pclass           0\n",
       "Name             0\n",
       "Sex              0\n",
       "Age            177\n",
       "SibSp            0\n",
       "Parch            0\n",
       "Ticket           0\n",
       "Fare             0\n",
       "Cabin          687\n",
       "Embarked         2\n",
       "dtype: int64"
      ]
     },
     "execution_count": 5,
     "metadata": {},
     "output_type": "execute_result"
    }
   ],
   "source": [
    "train_data.isna().sum()"
   ]
  },
  {
   "cell_type": "markdown",
   "id": "6eee650f",
   "metadata": {
    "papermill": {
     "duration": 0.03005,
     "end_time": "2021-09-30T09:35:16.231908",
     "exception": false,
     "start_time": "2021-09-30T09:35:16.201858",
     "status": "completed"
    },
    "tags": []
   },
   "source": [
    "we have 7 numeric columns and 5 categorial ones.\n",
    "cabin has 687 na values and age has 177, embarked has only 2"
   ]
  },
  {
   "cell_type": "code",
   "execution_count": 6,
   "id": "ccc40bbe",
   "metadata": {
    "execution": {
     "iopub.execute_input": "2021-09-30T09:35:16.300298Z",
     "iopub.status.busy": "2021-09-30T09:35:16.297667Z",
     "iopub.status.idle": "2021-09-30T09:35:16.303325Z",
     "shell.execute_reply": "2021-09-30T09:35:16.302817Z",
     "shell.execute_reply.started": "2021-09-30T07:50:29.187627Z"
    },
    "papermill": {
     "duration": 0.041206,
     "end_time": "2021-09-30T09:35:16.303458",
     "exception": false,
     "start_time": "2021-09-30T09:35:16.262252",
     "status": "completed"
    },
    "tags": []
   },
   "outputs": [
    {
     "data": {
      "text/plain": [
       "PassengerId      0\n",
       "Pclass           0\n",
       "Name             0\n",
       "Sex              0\n",
       "Age             86\n",
       "SibSp            0\n",
       "Parch            0\n",
       "Ticket           0\n",
       "Fare             1\n",
       "Cabin          327\n",
       "Embarked         0\n",
       "dtype: int64"
      ]
     },
     "execution_count": 6,
     "metadata": {},
     "output_type": "execute_result"
    }
   ],
   "source": [
    "test_data.isna().sum()"
   ]
  },
  {
   "cell_type": "code",
   "execution_count": 7,
   "id": "e10380ab",
   "metadata": {
    "_cell_guid": "ecbebf1e-60d1-4a0c-bfaa-41446343221f",
    "_uuid": "b7ca4719-606f-44a5-bc38-e5b5035d579f",
    "execution": {
     "iopub.execute_input": "2021-09-30T09:35:16.373143Z",
     "iopub.status.busy": "2021-09-30T09:35:16.367933Z",
     "iopub.status.idle": "2021-09-30T09:35:16.403795Z",
     "shell.execute_reply": "2021-09-30T09:35:16.403262Z",
     "shell.execute_reply.started": "2021-09-30T07:50:29.204785Z"
    },
    "papermill": {
     "duration": 0.06978,
     "end_time": "2021-09-30T09:35:16.403953",
     "exception": false,
     "start_time": "2021-09-30T09:35:16.334173",
     "status": "completed"
    },
    "tags": []
   },
   "outputs": [
    {
     "data": {
      "text/html": [
       "<div>\n",
       "<style scoped>\n",
       "    .dataframe tbody tr th:only-of-type {\n",
       "        vertical-align: middle;\n",
       "    }\n",
       "\n",
       "    .dataframe tbody tr th {\n",
       "        vertical-align: top;\n",
       "    }\n",
       "\n",
       "    .dataframe thead th {\n",
       "        text-align: right;\n",
       "    }\n",
       "</style>\n",
       "<table border=\"1\" class=\"dataframe\">\n",
       "  <thead>\n",
       "    <tr style=\"text-align: right;\">\n",
       "      <th></th>\n",
       "      <th>PassengerId</th>\n",
       "      <th>Survived</th>\n",
       "      <th>Pclass</th>\n",
       "      <th>Age</th>\n",
       "      <th>SibSp</th>\n",
       "      <th>Parch</th>\n",
       "      <th>Fare</th>\n",
       "    </tr>\n",
       "  </thead>\n",
       "  <tbody>\n",
       "    <tr>\n",
       "      <th>count</th>\n",
       "      <td>891.000000</td>\n",
       "      <td>891.000000</td>\n",
       "      <td>891.000000</td>\n",
       "      <td>714.000000</td>\n",
       "      <td>891.000000</td>\n",
       "      <td>891.000000</td>\n",
       "      <td>891.000000</td>\n",
       "    </tr>\n",
       "    <tr>\n",
       "      <th>mean</th>\n",
       "      <td>446.000000</td>\n",
       "      <td>0.383838</td>\n",
       "      <td>2.308642</td>\n",
       "      <td>29.699118</td>\n",
       "      <td>0.523008</td>\n",
       "      <td>0.381594</td>\n",
       "      <td>32.204208</td>\n",
       "    </tr>\n",
       "    <tr>\n",
       "      <th>std</th>\n",
       "      <td>257.353842</td>\n",
       "      <td>0.486592</td>\n",
       "      <td>0.836071</td>\n",
       "      <td>14.526497</td>\n",
       "      <td>1.102743</td>\n",
       "      <td>0.806057</td>\n",
       "      <td>49.693429</td>\n",
       "    </tr>\n",
       "    <tr>\n",
       "      <th>min</th>\n",
       "      <td>1.000000</td>\n",
       "      <td>0.000000</td>\n",
       "      <td>1.000000</td>\n",
       "      <td>0.420000</td>\n",
       "      <td>0.000000</td>\n",
       "      <td>0.000000</td>\n",
       "      <td>0.000000</td>\n",
       "    </tr>\n",
       "    <tr>\n",
       "      <th>25%</th>\n",
       "      <td>223.500000</td>\n",
       "      <td>0.000000</td>\n",
       "      <td>2.000000</td>\n",
       "      <td>20.125000</td>\n",
       "      <td>0.000000</td>\n",
       "      <td>0.000000</td>\n",
       "      <td>7.910400</td>\n",
       "    </tr>\n",
       "    <tr>\n",
       "      <th>50%</th>\n",
       "      <td>446.000000</td>\n",
       "      <td>0.000000</td>\n",
       "      <td>3.000000</td>\n",
       "      <td>28.000000</td>\n",
       "      <td>0.000000</td>\n",
       "      <td>0.000000</td>\n",
       "      <td>14.454200</td>\n",
       "    </tr>\n",
       "    <tr>\n",
       "      <th>75%</th>\n",
       "      <td>668.500000</td>\n",
       "      <td>1.000000</td>\n",
       "      <td>3.000000</td>\n",
       "      <td>38.000000</td>\n",
       "      <td>1.000000</td>\n",
       "      <td>0.000000</td>\n",
       "      <td>31.000000</td>\n",
       "    </tr>\n",
       "    <tr>\n",
       "      <th>max</th>\n",
       "      <td>891.000000</td>\n",
       "      <td>1.000000</td>\n",
       "      <td>3.000000</td>\n",
       "      <td>80.000000</td>\n",
       "      <td>8.000000</td>\n",
       "      <td>6.000000</td>\n",
       "      <td>512.329200</td>\n",
       "    </tr>\n",
       "  </tbody>\n",
       "</table>\n",
       "</div>"
      ],
      "text/plain": [
       "       PassengerId    Survived      Pclass         Age       SibSp  \\\n",
       "count   891.000000  891.000000  891.000000  714.000000  891.000000   \n",
       "mean    446.000000    0.383838    2.308642   29.699118    0.523008   \n",
       "std     257.353842    0.486592    0.836071   14.526497    1.102743   \n",
       "min       1.000000    0.000000    1.000000    0.420000    0.000000   \n",
       "25%     223.500000    0.000000    2.000000   20.125000    0.000000   \n",
       "50%     446.000000    0.000000    3.000000   28.000000    0.000000   \n",
       "75%     668.500000    1.000000    3.000000   38.000000    1.000000   \n",
       "max     891.000000    1.000000    3.000000   80.000000    8.000000   \n",
       "\n",
       "            Parch        Fare  \n",
       "count  891.000000  891.000000  \n",
       "mean     0.381594   32.204208  \n",
       "std      0.806057   49.693429  \n",
       "min      0.000000    0.000000  \n",
       "25%      0.000000    7.910400  \n",
       "50%      0.000000   14.454200  \n",
       "75%      0.000000   31.000000  \n",
       "max      6.000000  512.329200  "
      ]
     },
     "execution_count": 7,
     "metadata": {},
     "output_type": "execute_result"
    }
   ],
   "source": [
    "train_data.describe()"
   ]
  },
  {
   "cell_type": "code",
   "execution_count": 8,
   "id": "1ab607d9",
   "metadata": {
    "execution": {
     "iopub.execute_input": "2021-09-30T09:35:16.497512Z",
     "iopub.status.busy": "2021-09-30T09:35:16.496854Z",
     "iopub.status.idle": "2021-09-30T09:35:16.499628Z",
     "shell.execute_reply": "2021-09-30T09:35:16.500107Z",
     "shell.execute_reply.started": "2021-09-30T07:50:29.249664Z"
    },
    "papermill": {
     "duration": 0.063195,
     "end_time": "2021-09-30T09:35:16.500274",
     "exception": false,
     "start_time": "2021-09-30T09:35:16.437079",
     "status": "completed"
    },
    "tags": []
   },
   "outputs": [
    {
     "data": {
      "text/html": [
       "<div>\n",
       "<style scoped>\n",
       "    .dataframe tbody tr th:only-of-type {\n",
       "        vertical-align: middle;\n",
       "    }\n",
       "\n",
       "    .dataframe tbody tr th {\n",
       "        vertical-align: top;\n",
       "    }\n",
       "\n",
       "    .dataframe thead th {\n",
       "        text-align: right;\n",
       "    }\n",
       "</style>\n",
       "<table border=\"1\" class=\"dataframe\">\n",
       "  <thead>\n",
       "    <tr style=\"text-align: right;\">\n",
       "      <th></th>\n",
       "      <th>PassengerId</th>\n",
       "      <th>Pclass</th>\n",
       "      <th>Age</th>\n",
       "      <th>SibSp</th>\n",
       "      <th>Parch</th>\n",
       "      <th>Fare</th>\n",
       "    </tr>\n",
       "  </thead>\n",
       "  <tbody>\n",
       "    <tr>\n",
       "      <th>count</th>\n",
       "      <td>418.000000</td>\n",
       "      <td>418.000000</td>\n",
       "      <td>332.000000</td>\n",
       "      <td>418.000000</td>\n",
       "      <td>418.000000</td>\n",
       "      <td>417.000000</td>\n",
       "    </tr>\n",
       "    <tr>\n",
       "      <th>mean</th>\n",
       "      <td>1100.500000</td>\n",
       "      <td>2.265550</td>\n",
       "      <td>30.272590</td>\n",
       "      <td>0.447368</td>\n",
       "      <td>0.392344</td>\n",
       "      <td>35.627188</td>\n",
       "    </tr>\n",
       "    <tr>\n",
       "      <th>std</th>\n",
       "      <td>120.810458</td>\n",
       "      <td>0.841838</td>\n",
       "      <td>14.181209</td>\n",
       "      <td>0.896760</td>\n",
       "      <td>0.981429</td>\n",
       "      <td>55.907576</td>\n",
       "    </tr>\n",
       "    <tr>\n",
       "      <th>min</th>\n",
       "      <td>892.000000</td>\n",
       "      <td>1.000000</td>\n",
       "      <td>0.170000</td>\n",
       "      <td>0.000000</td>\n",
       "      <td>0.000000</td>\n",
       "      <td>0.000000</td>\n",
       "    </tr>\n",
       "    <tr>\n",
       "      <th>25%</th>\n",
       "      <td>996.250000</td>\n",
       "      <td>1.000000</td>\n",
       "      <td>21.000000</td>\n",
       "      <td>0.000000</td>\n",
       "      <td>0.000000</td>\n",
       "      <td>7.895800</td>\n",
       "    </tr>\n",
       "    <tr>\n",
       "      <th>50%</th>\n",
       "      <td>1100.500000</td>\n",
       "      <td>3.000000</td>\n",
       "      <td>27.000000</td>\n",
       "      <td>0.000000</td>\n",
       "      <td>0.000000</td>\n",
       "      <td>14.454200</td>\n",
       "    </tr>\n",
       "    <tr>\n",
       "      <th>75%</th>\n",
       "      <td>1204.750000</td>\n",
       "      <td>3.000000</td>\n",
       "      <td>39.000000</td>\n",
       "      <td>1.000000</td>\n",
       "      <td>0.000000</td>\n",
       "      <td>31.500000</td>\n",
       "    </tr>\n",
       "    <tr>\n",
       "      <th>max</th>\n",
       "      <td>1309.000000</td>\n",
       "      <td>3.000000</td>\n",
       "      <td>76.000000</td>\n",
       "      <td>8.000000</td>\n",
       "      <td>9.000000</td>\n",
       "      <td>512.329200</td>\n",
       "    </tr>\n",
       "  </tbody>\n",
       "</table>\n",
       "</div>"
      ],
      "text/plain": [
       "       PassengerId      Pclass         Age       SibSp       Parch        Fare\n",
       "count   418.000000  418.000000  332.000000  418.000000  418.000000  417.000000\n",
       "mean   1100.500000    2.265550   30.272590    0.447368    0.392344   35.627188\n",
       "std     120.810458    0.841838   14.181209    0.896760    0.981429   55.907576\n",
       "min     892.000000    1.000000    0.170000    0.000000    0.000000    0.000000\n",
       "25%     996.250000    1.000000   21.000000    0.000000    0.000000    7.895800\n",
       "50%    1100.500000    3.000000   27.000000    0.000000    0.000000   14.454200\n",
       "75%    1204.750000    3.000000   39.000000    1.000000    0.000000   31.500000\n",
       "max    1309.000000    3.000000   76.000000    8.000000    9.000000  512.329200"
      ]
     },
     "execution_count": 8,
     "metadata": {},
     "output_type": "execute_result"
    }
   ],
   "source": [
    "test_data.describe()"
   ]
  },
  {
   "cell_type": "markdown",
   "id": "782655b8",
   "metadata": {
    "papermill": {
     "duration": 0.032392,
     "end_time": "2021-09-30T09:35:16.565104",
     "exception": false,
     "start_time": "2021-09-30T09:35:16.532712",
     "status": "completed"
    },
    "tags": []
   },
   "source": [
    "from the summary we can see that the test and train data features has similar statistics, we will work with the full data to fill our na values"
   ]
  },
  {
   "cell_type": "code",
   "execution_count": 9,
   "id": "323013fd",
   "metadata": {
    "execution": {
     "iopub.execute_input": "2021-09-30T09:35:16.631800Z",
     "iopub.status.busy": "2021-09-30T09:35:16.631143Z",
     "iopub.status.idle": "2021-09-30T09:35:16.641094Z",
     "shell.execute_reply": "2021-09-30T09:35:16.640461Z",
     "shell.execute_reply.started": "2021-09-30T07:50:29.290312Z"
    },
    "papermill": {
     "duration": 0.044739,
     "end_time": "2021-09-30T09:35:16.641229",
     "exception": false,
     "start_time": "2021-09-30T09:35:16.596490",
     "status": "completed"
    },
    "tags": []
   },
   "outputs": [
    {
     "name": "stdout",
     "output_type": "stream",
     "text": [
      "categorial columns are: Index(['Name', 'Sex', 'Ticket', 'Cabin', 'Embarked'], dtype='object')\n",
      "numerical columns are: Index(['PassengerId', 'Survived', 'Pclass', 'Age', 'SibSp', 'Parch', 'Fare'], dtype='object')\n"
     ]
    }
   ],
   "source": [
    "cat_cols = fulldata.select_dtypes(include = \"object\").columns\n",
    "num_cols = fulldata.select_dtypes(exclude = \"object\").columns\n",
    "print(f\"categorial columns are: {cat_cols}\")\n",
    "print(f\"numerical columns are: {num_cols}\")"
   ]
  },
  {
   "cell_type": "code",
   "execution_count": 10,
   "id": "923ec041",
   "metadata": {
    "execution": {
     "iopub.execute_input": "2021-09-30T09:35:16.710912Z",
     "iopub.status.busy": "2021-09-30T09:35:16.709883Z",
     "iopub.status.idle": "2021-09-30T09:35:16.718445Z",
     "shell.execute_reply": "2021-09-30T09:35:16.717901Z",
     "shell.execute_reply.started": "2021-09-30T07:50:29.310494Z"
    },
    "papermill": {
     "duration": 0.044581,
     "end_time": "2021-09-30T09:35:16.718599",
     "exception": false,
     "start_time": "2021-09-30T09:35:16.674018",
     "status": "completed"
    },
    "tags": []
   },
   "outputs": [
    {
     "name": "stdout",
     "output_type": "stream",
     "text": [
      "Name has 1307 unique values\n",
      "Sex has 2 unique values\n",
      "Ticket has 929 unique values\n",
      "Cabin has 186 unique values\n",
      "Embarked has 3 unique values\n"
     ]
    }
   ],
   "source": [
    "n_uniqe = {col:fulldata[col].nunique() for col in cat_cols}\n",
    "for key in n_uniqe:\n",
    "    print(f\"{key} has {n_uniqe[key]} unique values\")"
   ]
  },
  {
   "cell_type": "markdown",
   "id": "e9793f97",
   "metadata": {
    "papermill": {
     "duration": 0.031873,
     "end_time": "2021-09-30T09:35:16.782766",
     "exception": false,
     "start_time": "2021-09-30T09:35:16.750893",
     "status": "completed"
    },
    "tags": []
   },
   "source": [
    "# 2. **Data Cleaning**"
   ]
  },
  {
   "cell_type": "code",
   "execution_count": 11,
   "id": "176c9a3b",
   "metadata": {
    "execution": {
     "iopub.execute_input": "2021-09-30T09:35:16.852756Z",
     "iopub.status.busy": "2021-09-30T09:35:16.852193Z",
     "iopub.status.idle": "2021-09-30T09:35:16.858583Z",
     "shell.execute_reply": "2021-09-30T09:35:16.858052Z",
     "shell.execute_reply.started": "2021-09-30T07:50:29.326219Z"
    },
    "papermill": {
     "duration": 0.041891,
     "end_time": "2021-09-30T09:35:16.858747",
     "exception": false,
     "start_time": "2021-09-30T09:35:16.816856",
     "status": "completed"
    },
    "tags": []
   },
   "outputs": [],
   "source": [
    "#for later use\n",
    "fulldata[\"Last_Name\"] = [name.split(',')[0].strip() for name in fulldata[\"Name\"]]"
   ]
  },
  {
   "cell_type": "code",
   "execution_count": 12,
   "id": "561a66d4",
   "metadata": {
    "execution": {
     "iopub.execute_input": "2021-09-30T09:35:16.927239Z",
     "iopub.status.busy": "2021-09-30T09:35:16.926604Z",
     "iopub.status.idle": "2021-09-30T09:35:16.933345Z",
     "shell.execute_reply": "2021-09-30T09:35:16.933848Z",
     "shell.execute_reply.started": "2021-09-30T07:50:29.336587Z"
    },
    "papermill": {
     "duration": 0.043254,
     "end_time": "2021-09-30T09:35:16.934032",
     "exception": false,
     "start_time": "2021-09-30T09:35:16.890778",
     "status": "completed"
    },
    "tags": []
   },
   "outputs": [],
   "source": [
    "#getting Cabin prefix when it exists\n",
    "def cabin_transform(df):\n",
    "    cdf = df.copy()\n",
    "    cabin = []\n",
    "    for x in cdf[\"Cabin\"]:\n",
    "        if type(x) != str:\n",
    "            cabin.append(np.nan)\n",
    "        else:\n",
    "            cabin.append(x[0])\n",
    "    return(cabin)\n",
    "fulldata[\"Cabin\"] = cabin_transform(fulldata)"
   ]
  },
  {
   "cell_type": "code",
   "execution_count": 13,
   "id": "5861d8af",
   "metadata": {
    "execution": {
     "iopub.execute_input": "2021-09-30T09:35:17.003631Z",
     "iopub.status.busy": "2021-09-30T09:35:17.003013Z",
     "iopub.status.idle": "2021-09-30T09:35:17.062058Z",
     "shell.execute_reply": "2021-09-30T09:35:17.061535Z",
     "shell.execute_reply.started": "2021-09-30T07:50:29.349765Z"
    },
    "papermill": {
     "duration": 0.095102,
     "end_time": "2021-09-30T09:35:17.062203",
     "exception": false,
     "start_time": "2021-09-30T09:35:16.967101",
     "status": "completed"
    },
    "tags": []
   },
   "outputs": [
    {
     "data": {
      "text/html": [
       "<div>\n",
       "<style scoped>\n",
       "    .dataframe tbody tr th:only-of-type {\n",
       "        vertical-align: middle;\n",
       "    }\n",
       "\n",
       "    .dataframe tbody tr th {\n",
       "        vertical-align: top;\n",
       "    }\n",
       "\n",
       "    .dataframe thead th {\n",
       "        text-align: right;\n",
       "    }\n",
       "</style>\n",
       "<table border=\"1\" class=\"dataframe\">\n",
       "  <thead>\n",
       "    <tr style=\"text-align: right;\">\n",
       "      <th>Survived</th>\n",
       "      <th>0.0</th>\n",
       "      <th>1.0</th>\n",
       "    </tr>\n",
       "    <tr>\n",
       "      <th>Cabin</th>\n",
       "      <th></th>\n",
       "      <th></th>\n",
       "    </tr>\n",
       "  </thead>\n",
       "  <tbody>\n",
       "    <tr>\n",
       "      <th>A</th>\n",
       "      <td>0.533333</td>\n",
       "      <td>0.466667</td>\n",
       "    </tr>\n",
       "    <tr>\n",
       "      <th>B</th>\n",
       "      <td>0.255319</td>\n",
       "      <td>0.744681</td>\n",
       "    </tr>\n",
       "    <tr>\n",
       "      <th>C</th>\n",
       "      <td>0.406780</td>\n",
       "      <td>0.593220</td>\n",
       "    </tr>\n",
       "    <tr>\n",
       "      <th>D</th>\n",
       "      <td>0.242424</td>\n",
       "      <td>0.757576</td>\n",
       "    </tr>\n",
       "    <tr>\n",
       "      <th>E</th>\n",
       "      <td>0.250000</td>\n",
       "      <td>0.750000</td>\n",
       "    </tr>\n",
       "    <tr>\n",
       "      <th>F</th>\n",
       "      <td>0.384615</td>\n",
       "      <td>0.615385</td>\n",
       "    </tr>\n",
       "    <tr>\n",
       "      <th>G</th>\n",
       "      <td>0.500000</td>\n",
       "      <td>0.500000</td>\n",
       "    </tr>\n",
       "    <tr>\n",
       "      <th>T</th>\n",
       "      <td>1.000000</td>\n",
       "      <td>0.000000</td>\n",
       "    </tr>\n",
       "  </tbody>\n",
       "</table>\n",
       "</div>"
      ],
      "text/plain": [
       "Survived       0.0       1.0\n",
       "Cabin                       \n",
       "A         0.533333  0.466667\n",
       "B         0.255319  0.744681\n",
       "C         0.406780  0.593220\n",
       "D         0.242424  0.757576\n",
       "E         0.250000  0.750000\n",
       "F         0.384615  0.615385\n",
       "G         0.500000  0.500000\n",
       "T         1.000000  0.000000"
      ]
     },
     "execution_count": 13,
     "metadata": {},
     "output_type": "execute_result"
    }
   ],
   "source": [
    "last_name_cabin = pd.crosstab(fulldata[\"Last_Name\"],fulldata[\"Cabin\"])\n",
    "(last_name_cabin != 0).sum(axis = 1).sum() - len(last_name_cabin)  #number of same last name and staying in diffrent cabin = 8\n",
    "ticket_cabin = pd.crosstab(fulldata[\"Ticket\"],fulldata[\"Cabin\"])\n",
    "(ticket_cabin != 0).sum(axis = 1).sum() - len(ticket_cabin)  #number of same last name and staying in diffrent cabin = 2\n",
    "cabin_survival = pd.crosstab(fulldata[\"Cabin\"],fulldata[\"Survived\"],normalize=\"index\")\n",
    "cabin_survival"
   ]
  },
  {
   "cell_type": "code",
   "execution_count": 14,
   "id": "6d7d2fc2",
   "metadata": {
    "execution": {
     "iopub.execute_input": "2021-09-30T09:35:17.145502Z",
     "iopub.status.busy": "2021-09-30T09:35:17.143940Z",
     "iopub.status.idle": "2021-09-30T09:35:17.173915Z",
     "shell.execute_reply": "2021-09-30T09:35:17.174586Z",
     "shell.execute_reply.started": "2021-09-30T07:50:29.436132Z"
    },
    "papermill": {
     "duration": 0.079427,
     "end_time": "2021-09-30T09:35:17.174837",
     "exception": false,
     "start_time": "2021-09-30T09:35:17.095410",
     "status": "completed"
    },
    "tags": []
   },
   "outputs": [
    {
     "name": "stdout",
     "output_type": "stream",
     "text": [
      "Cabin\n",
      "A     41.244314\n",
      "B    122.383078\n",
      "C    107.926598\n",
      "D     53.007339\n",
      "E     54.564634\n",
      "F     18.079367\n",
      "G     14.205000\n",
      "T     35.500000\n",
      "Name: Fare, dtype: float64\n",
      "Cabin\n",
      "A     81.8583\n",
      "B    512.3292\n",
      "C    263.0000\n",
      "D    113.2750\n",
      "E    134.5000\n",
      "F     39.0000\n",
      "G     16.7000\n",
      "T     35.5000\n",
      "Name: Fare, dtype: float64\n",
      "Cabin\n",
      "A     0.0000\n",
      "B     0.0000\n",
      "C    25.7000\n",
      "D    12.8750\n",
      "E     8.0500\n",
      "F     7.2292\n",
      "G    10.4625\n",
      "T    35.5000\n",
      "Name: Fare, dtype: float64\n"
     ]
    },
    {
     "data": {
      "text/html": [
       "<div>\n",
       "<style scoped>\n",
       "    .dataframe tbody tr th:only-of-type {\n",
       "        vertical-align: middle;\n",
       "    }\n",
       "\n",
       "    .dataframe tbody tr th {\n",
       "        vertical-align: top;\n",
       "    }\n",
       "\n",
       "    .dataframe thead th {\n",
       "        text-align: right;\n",
       "    }\n",
       "</style>\n",
       "<table border=\"1\" class=\"dataframe\">\n",
       "  <thead>\n",
       "    <tr style=\"text-align: right;\">\n",
       "      <th></th>\n",
       "      <th>count</th>\n",
       "      <th>mean</th>\n",
       "      <th>std</th>\n",
       "      <th>min</th>\n",
       "      <th>25%</th>\n",
       "      <th>50%</th>\n",
       "      <th>75%</th>\n",
       "      <th>max</th>\n",
       "    </tr>\n",
       "    <tr>\n",
       "      <th>Cabin</th>\n",
       "      <th></th>\n",
       "      <th></th>\n",
       "      <th></th>\n",
       "      <th></th>\n",
       "      <th></th>\n",
       "      <th></th>\n",
       "      <th></th>\n",
       "      <th></th>\n",
       "    </tr>\n",
       "  </thead>\n",
       "  <tbody>\n",
       "    <tr>\n",
       "      <th>A</th>\n",
       "      <td>22.0</td>\n",
       "      <td>41.244314</td>\n",
       "      <td>20.140358</td>\n",
       "      <td>0.0000</td>\n",
       "      <td>30.1250</td>\n",
       "      <td>35.0771</td>\n",
       "      <td>50.37185</td>\n",
       "      <td>81.8583</td>\n",
       "    </tr>\n",
       "    <tr>\n",
       "      <th>B</th>\n",
       "      <td>65.0</td>\n",
       "      <td>122.383078</td>\n",
       "      <td>115.312993</td>\n",
       "      <td>0.0000</td>\n",
       "      <td>57.0000</td>\n",
       "      <td>82.2667</td>\n",
       "      <td>146.52080</td>\n",
       "      <td>512.3292</td>\n",
       "    </tr>\n",
       "    <tr>\n",
       "      <th>C</th>\n",
       "      <td>94.0</td>\n",
       "      <td>107.926598</td>\n",
       "      <td>72.912034</td>\n",
       "      <td>25.7000</td>\n",
       "      <td>52.0000</td>\n",
       "      <td>86.2896</td>\n",
       "      <td>151.55000</td>\n",
       "      <td>263.0000</td>\n",
       "    </tr>\n",
       "    <tr>\n",
       "      <th>D</th>\n",
       "      <td>46.0</td>\n",
       "      <td>53.007339</td>\n",
       "      <td>28.126283</td>\n",
       "      <td>12.8750</td>\n",
       "      <td>27.7208</td>\n",
       "      <td>52.5542</td>\n",
       "      <td>76.72920</td>\n",
       "      <td>113.2750</td>\n",
       "    </tr>\n",
       "    <tr>\n",
       "      <th>E</th>\n",
       "      <td>41.0</td>\n",
       "      <td>54.564634</td>\n",
       "      <td>37.738225</td>\n",
       "      <td>8.0500</td>\n",
       "      <td>26.2875</td>\n",
       "      <td>53.1000</td>\n",
       "      <td>79.65000</td>\n",
       "      <td>134.5000</td>\n",
       "    </tr>\n",
       "    <tr>\n",
       "      <th>F</th>\n",
       "      <td>21.0</td>\n",
       "      <td>18.079367</td>\n",
       "      <td>12.215124</td>\n",
       "      <td>7.2292</td>\n",
       "      <td>7.6500</td>\n",
       "      <td>13.0000</td>\n",
       "      <td>26.00000</td>\n",
       "      <td>39.0000</td>\n",
       "    </tr>\n",
       "    <tr>\n",
       "      <th>G</th>\n",
       "      <td>5.0</td>\n",
       "      <td>14.205000</td>\n",
       "      <td>3.416419</td>\n",
       "      <td>10.4625</td>\n",
       "      <td>10.4625</td>\n",
       "      <td>16.7000</td>\n",
       "      <td>16.70000</td>\n",
       "      <td>16.7000</td>\n",
       "    </tr>\n",
       "    <tr>\n",
       "      <th>T</th>\n",
       "      <td>1.0</td>\n",
       "      <td>35.500000</td>\n",
       "      <td>NaN</td>\n",
       "      <td>35.5000</td>\n",
       "      <td>35.5000</td>\n",
       "      <td>35.5000</td>\n",
       "      <td>35.50000</td>\n",
       "      <td>35.5000</td>\n",
       "    </tr>\n",
       "  </tbody>\n",
       "</table>\n",
       "</div>"
      ],
      "text/plain": [
       "       count        mean         std      min      25%      50%        75%  \\\n",
       "Cabin                                                                        \n",
       "A       22.0   41.244314   20.140358   0.0000  30.1250  35.0771   50.37185   \n",
       "B       65.0  122.383078  115.312993   0.0000  57.0000  82.2667  146.52080   \n",
       "C       94.0  107.926598   72.912034  25.7000  52.0000  86.2896  151.55000   \n",
       "D       46.0   53.007339   28.126283  12.8750  27.7208  52.5542   76.72920   \n",
       "E       41.0   54.564634   37.738225   8.0500  26.2875  53.1000   79.65000   \n",
       "F       21.0   18.079367   12.215124   7.2292   7.6500  13.0000   26.00000   \n",
       "G        5.0   14.205000    3.416419  10.4625  10.4625  16.7000   16.70000   \n",
       "T        1.0   35.500000         NaN  35.5000  35.5000  35.5000   35.50000   \n",
       "\n",
       "            max  \n",
       "Cabin            \n",
       "A       81.8583  \n",
       "B      512.3292  \n",
       "C      263.0000  \n",
       "D      113.2750  \n",
       "E      134.5000  \n",
       "F       39.0000  \n",
       "G       16.7000  \n",
       "T       35.5000  "
      ]
     },
     "execution_count": 14,
     "metadata": {},
     "output_type": "execute_result"
    }
   ],
   "source": [
    "print(fulldata.groupby([\"Cabin\"])[\"Fare\"].mean()) # check itt\n",
    "print(fulldata.groupby([\"Cabin\"])[\"Fare\"].max())\n",
    "print(fulldata.groupby([\"Cabin\"])[\"Fare\"].min())\n",
    "fulldata.groupby([\"Cabin\"])[\"Fare\"].describe()"
   ]
  },
  {
   "cell_type": "code",
   "execution_count": 15,
   "id": "981a6b95",
   "metadata": {
    "execution": {
     "iopub.execute_input": "2021-09-30T09:35:17.249465Z",
     "iopub.status.busy": "2021-09-30T09:35:17.244863Z",
     "iopub.status.idle": "2021-09-30T09:35:17.260235Z",
     "shell.execute_reply": "2021-09-30T09:35:17.260724Z",
     "shell.execute_reply.started": "2021-09-30T07:50:29.493625Z"
    },
    "papermill": {
     "duration": 0.052518,
     "end_time": "2021-09-30T09:35:17.260908",
     "exception": false,
     "start_time": "2021-09-30T09:35:17.208390",
     "status": "completed"
    },
    "tags": []
   },
   "outputs": [],
   "source": [
    "#fill na using last name\n",
    "grp_data_lname = fulldata[fulldata[\"Cabin\"].isna() == False].groupby([\"Last_Name\"])[\"Cabin\"].sum()\n",
    "last_name_cabin_map = {grp_data_lname.index[i]:x[0] for i,x in enumerate (grp_data_lname)}\n",
    "fulldata[\"Cabin\"] = fulldata[\"Last_Name\"].map(last_name_cabin_map)\n",
    "\n",
    "#fill na using last ticket\n",
    "grp_data_ticket = fulldata[fulldata[\"Cabin\"].isna() == False].groupby([\"Ticket\"])[\"Cabin\"].sum()\n",
    "ticket_cabin_map = {grp_data_ticket.index[i]:x[0] for i,x in enumerate (grp_data_ticket)}\n",
    "fulldata[\"Cabin\"] = fulldata[\"Ticket\"].map(ticket_cabin_map)\n",
    "\n",
    "fulldata[\"Cabin\"].fillna(\"Z\",inplace =True) # for separating na"
   ]
  },
  {
   "cell_type": "code",
   "execution_count": 16,
   "id": "52ef0f88",
   "metadata": {
    "execution": {
     "iopub.execute_input": "2021-09-30T09:35:17.332057Z",
     "iopub.status.busy": "2021-09-30T09:35:17.330771Z",
     "iopub.status.idle": "2021-09-30T09:35:17.339098Z",
     "shell.execute_reply": "2021-09-30T09:35:17.339560Z",
     "shell.execute_reply.started": "2021-09-30T07:50:29.589221Z"
    },
    "papermill": {
     "duration": 0.04557,
     "end_time": "2021-09-30T09:35:17.339744",
     "exception": false,
     "start_time": "2021-09-30T09:35:17.294174",
     "status": "completed"
    },
    "tags": []
   },
   "outputs": [],
   "source": [
    "#drop unused columns\n",
    "fulldata.drop([\"Name\",\"Ticket\",\"PassengerId\"],axis = 1,inplace = True) \n",
    "#filling na's\n",
    "embk_mode = fulldata[\"Embarked\"].mode()[0]\n",
    "fulldata[\"Embarked\"].fillna(embk_mode,inplace = True)\n",
    "fulldata[\"Fare\"].fillna(fulldata[\"Fare\"].median(),inplace = True) #Fare is skewed so we will use the median"
   ]
  },
  {
   "cell_type": "markdown",
   "id": "143c56e8",
   "metadata": {
    "papermill": {
     "duration": 0.035495,
     "end_time": "2021-09-30T09:35:17.409322",
     "exception": false,
     "start_time": "2021-09-30T09:35:17.373827",
     "status": "completed"
    },
    "tags": []
   },
   "source": [
    "let's see age distribution before making decisions for what to do with the missing data"
   ]
  },
  {
   "cell_type": "code",
   "execution_count": 17,
   "id": "f9aad802",
   "metadata": {
    "execution": {
     "iopub.execute_input": "2021-09-30T09:35:17.480446Z",
     "iopub.status.busy": "2021-09-30T09:35:17.479415Z",
     "iopub.status.idle": "2021-09-30T09:35:17.965268Z",
     "shell.execute_reply": "2021-09-30T09:35:17.964396Z",
     "shell.execute_reply.started": "2021-09-30T07:50:29.602305Z"
    },
    "papermill": {
     "duration": 0.522871,
     "end_time": "2021-09-30T09:35:17.965412",
     "exception": false,
     "start_time": "2021-09-30T09:35:17.442541",
     "status": "completed"
    },
    "tags": []
   },
   "outputs": [
    {
     "name": "stdout",
     "output_type": "stream",
     "text": [
      "Survived   -0.077221\n",
      "Pclass     -0.408106\n",
      "Age         1.000000\n",
      "SibSp      -0.243699\n",
      "Parch      -0.150917\n",
      "Fare        0.177528\n",
      "Name: Age, dtype: float64\n",
      "Pclass  Sex   \n",
      "1       female    37.037594\n",
      "        male      41.029272\n",
      "2       female    27.499223\n",
      "        male      30.815380\n",
      "3       female    22.185329\n",
      "        male      25.962264\n",
      "Name: Age, dtype: float64\n"
     ]
    },
    {
     "data": {
      "image/png": "[encoded data removed]",
      "text/plain": [
       "<Figure size 432x288 with 1 Axes>"
      ]
     },
     "metadata": {
      "needs_background": "light"
     },
     "output_type": "display_data"
    }
   ],
   "source": [
    "plt.hist(fulldata[\"Age\"])\n",
    "plt.vlines(fulldata[\"Age\"].mean(),colors = \"red\",ymin = 0,ymax =275)\n",
    "plt.vlines(fulldata[\"Age\"].median(),colors = \"green\",ymin = 0,ymax =275)\n",
    "plt.vlines(fulldata[\"Age\"].mode(),colors = \"black\",ymin = 0,ymax =275)\n",
    "plt.legend([\"mean\",\"median\",\"mode\"])\n",
    "print(fulldata.corr()[\"Age\"])\n",
    "print(fulldata.groupby([\"Pclass\",\"Sex\"])[\"Age\"].mean()) # all other subgroups has low counts therefore the mean is irrelevant\n",
    "fulldata[\"Age\"].fillna(fulldata.groupby([\"Pclass\",\"Sex\"])[\"Age\"].transform(\"mean\"),inplace = True)"
   ]
  },
  {
   "cell_type": "markdown",
   "id": "fff58a95",
   "metadata": {
    "papermill": {
     "duration": 0.034107,
     "end_time": "2021-09-30T09:35:18.033554",
     "exception": false,
     "start_time": "2021-09-30T09:35:17.999447",
     "status": "completed"
    },
    "tags": []
   },
   "source": [
    "encodeding for categorial data:"
   ]
  },
  {
   "cell_type": "code",
   "execution_count": 18,
   "id": "8aef84d3",
   "metadata": {
    "execution": {
     "iopub.execute_input": "2021-09-30T09:35:18.110370Z",
     "iopub.status.busy": "2021-09-30T09:35:18.109263Z",
     "iopub.status.idle": "2021-09-30T09:35:18.126086Z",
     "shell.execute_reply": "2021-09-30T09:35:18.126520Z",
     "shell.execute_reply.started": "2021-09-30T07:50:29.953933Z"
    },
    "papermill": {
     "duration": 0.059011,
     "end_time": "2021-09-30T09:35:18.126717",
     "exception": false,
     "start_time": "2021-09-30T09:35:18.067706",
     "status": "completed"
    },
    "tags": []
   },
   "outputs": [
    {
     "name": "stdout",
     "output_type": "stream",
     "text": [
      "classes encoded for Sex are ['female' 'male']\n",
      "classes encoded for Embarked are ['C' 'Q' 'S']\n",
      "classes encoded for Cabin are ['A' 'B' 'C' 'D' 'E' 'F' 'G' 'T' 'Z']\n"
     ]
    }
   ],
   "source": [
    "def label_encode_for_df(train_data,col):\n",
    "    le = LabelEncoder()\n",
    "    train_data[col] = le.fit_transform(train_data[col])\n",
    "    print(f\"classes encoded for {col} are {le.classes_}\")\n",
    "    return(train_data)\n",
    "\n",
    "fulldata_for_plots = fulldata.copy()\n",
    "for col in [\"Sex\",\"Embarked\",\"Cabin\"]:\n",
    "    fulldata_for_plots = label_encode_for_df(fulldata_for_plots,col)\n",
    "\n",
    "fulldata[\"Pclass\"] = fulldata[\"Pclass\"].apply(str)\n",
    "fulldata = pd.concat([fulldata.drop([\"Sex\",\"Cabin\",\"Embarked\",\"Pclass\"],axis = 1),pd.get_dummies(fulldata[[\"Sex\",\"Cabin\",\"Embarked\",\"Pclass\"]],drop_first= True)],axis = 1)"
   ]
  },
  {
   "cell_type": "markdown",
   "id": "17be7856",
   "metadata": {
    "papermill": {
     "duration": 0.0338,
     "end_time": "2021-09-30T09:35:18.194850",
     "exception": false,
     "start_time": "2021-09-30T09:35:18.161050",
     "status": "completed"
    },
    "tags": []
   },
   "source": [
    "# 3. *now that we have cleaned the data let's make baseline models before we move to some data visualization and feature engineering*"
   ]
  },
  {
   "cell_type": "code",
   "execution_count": 19,
   "id": "ffcc1c73",
   "metadata": {
    "execution": {
     "iopub.execute_input": "2021-09-30T09:35:18.271909Z",
     "iopub.status.busy": "2021-09-30T09:35:18.270876Z",
     "iopub.status.idle": "2021-09-30T09:36:09.000575Z",
     "shell.execute_reply": "2021-09-30T09:36:09.001523Z",
     "shell.execute_reply.started": "2021-09-30T07:50:29.988161Z"
    },
    "papermill": {
     "duration": 50.772708,
     "end_time": "2021-09-30T09:36:09.001805",
     "exception": false,
     "start_time": "2021-09-30T09:35:18.229097",
     "status": "completed"
    },
    "tags": []
   },
   "outputs": [
    {
     "name": "stdout",
     "output_type": "stream",
     "text": [
      "GradientBoostingClassifier() cv acc is : 0.8215480649188514\n",
      "LogisticRegression(solver='liblinear') cv acc is : 0.8024968789013732\n",
      "SVC(kernel='linear') cv acc is : 0.7811610486891387\n",
      "KNeighborsClassifier() cv acc is : 0.7082147315855181\n",
      "GaussianNB() cv acc is : 0.7665543071161048\n"
     ]
    }
   ],
   "source": [
    "# gets model and data, returns model acc\n",
    "def model_score(model,X_train,y_train,X_test,y_test):\n",
    "    model.fit(X_train,y_train)\n",
    "    y_pred = model.predict(X_test)\n",
    "    return(accuracy_score(y_test,y_pred))\n",
    "\n",
    "def cv_eval_model(X,y):\n",
    "    xgb_model = GradientBoostingClassifier()\n",
    "    lr_model = LogisticRegression(solver='liblinear')\n",
    "    svm_model = SVC(kernel=\"linear\")\n",
    "    KNN_model = KNeighborsClassifier()\n",
    "    NB_model = GaussianNB()\n",
    "    for model in [xgb_model,lr_model,svm_model,KNN_model,NB_model]:\n",
    "        print(f\"{model} cv acc is : {cross_val_score(model,X,y,cv=10,scoring=make_scorer(accuracy_score)).mean()}\")\n",
    "\n",
    "X = fulldata[train_index].drop([\"Survived\",\"Last_Name\"],axis = 1)\n",
    "y = fulldata[train_index].Survived\n",
    "test_data = fulldata[test_index].drop([\"Survived\",\"Last_Name\"],axis = 1)\n",
    "cv_eval_model(X,y)"
   ]
  },
  {
   "cell_type": "markdown",
   "id": "06372977",
   "metadata": {
    "papermill": {
     "duration": 0.034566,
     "end_time": "2021-09-30T09:36:09.072315",
     "exception": false,
     "start_time": "2021-09-30T09:36:09.037749",
     "status": "completed"
    },
    "tags": []
   },
   "source": [
    "# 4. **Data visualization**"
   ]
  },
  {
   "cell_type": "markdown",
   "id": "c13ae190",
   "metadata": {
    "papermill": {
     "duration": 0.034925,
     "end_time": "2021-09-30T09:36:09.142602",
     "exception": false,
     "start_time": "2021-09-30T09:36:09.107677",
     "status": "completed"
    },
    "tags": []
   },
   "source": [
    "first let's see how are data is distributed and transform some features if necessary"
   ]
  },
  {
   "cell_type": "code",
   "execution_count": 20,
   "id": "ba11801b",
   "metadata": {
    "execution": {
     "iopub.execute_input": "2021-09-30T09:36:09.364479Z",
     "iopub.status.busy": "2021-09-30T09:36:09.299178Z",
     "iopub.status.idle": "2021-09-30T09:36:11.092683Z",
     "shell.execute_reply": "2021-09-30T09:36:11.092216Z",
     "shell.execute_reply.started": "2021-09-30T07:51:22.222143Z"
    },
    "papermill": {
     "duration": 1.914763,
     "end_time": "2021-09-30T09:36:11.092825",
     "exception": false,
     "start_time": "2021-09-30T09:36:09.178062",
     "status": "completed"
    },
    "tags": []
   },
   "outputs": [
    {
     "data": {
      "image/png": "[encoded data removed]",
      "text/plain": [
       "<Figure size 1296x720 with 9 Axes>"
      ]
     },
     "metadata": {
      "needs_background": "light"
     },
     "output_type": "display_data"
    }
   ],
   "source": [
    "fig, axes = plt.subplots(3,3, figsize=(18, 10))\n",
    "for i in range(len(fulldata_for_plots.columns.drop([\"Survived\",\"Last_Name\"]))):\n",
    "    col = fulldata_for_plots.columns.drop([\"Survived\",\"Last_Name\"])[i]\n",
    "    sns.histplot(fulldata_for_plots[col],ax =axes[int(np.floor(i/3)),i%3])"
   ]
  },
  {
   "cell_type": "markdown",
   "id": "94911d9f",
   "metadata": {
    "papermill": {
     "duration": 0.035893,
     "end_time": "2021-09-30T09:36:11.164529",
     "exception": false,
     "start_time": "2021-09-30T09:36:11.128636",
     "status": "completed"
    },
    "tags": []
   },
   "source": [
    "most of our data is nominal so there is no transformation needed for most features, Fare price is skewd so will use a transformation"
   ]
  },
  {
   "cell_type": "code",
   "execution_count": 21,
   "id": "6c411c29",
   "metadata": {
    "execution": {
     "iopub.execute_input": "2021-09-30T09:36:11.244176Z",
     "iopub.status.busy": "2021-09-30T09:36:11.243165Z",
     "iopub.status.idle": "2021-09-30T09:36:11.596334Z",
     "shell.execute_reply": "2021-09-30T09:36:11.595868Z",
     "shell.execute_reply.started": "2021-09-30T07:51:25.579531Z"
    },
    "papermill": {
     "duration": 0.396008,
     "end_time": "2021-09-30T09:36:11.596472",
     "exception": false,
     "start_time": "2021-09-30T09:36:11.200464",
     "status": "completed"
    },
    "tags": []
   },
   "outputs": [
    {
     "data": {
      "text/plain": [
       "<seaborn.axisgrid.FacetGrid at 0x7f56d3287ad0>"
      ]
     },
     "execution_count": 21,
     "metadata": {},
     "output_type": "execute_result"
    },
    {
     "data": {
      "image/png": "[encoded data removed]",
      "text/plain": [
       "<Figure size 360x360 with 1 Axes>"
      ]
     },
     "metadata": {
      "needs_background": "light"
     },
     "output_type": "display_data"
    }
   ],
   "source": [
    "fulldata[\"Fare_transformed\"] = np.log(fulldata[\"Fare\"]+1)\n",
    "fulldata.drop(\"Fare\",axis = 1,inplace = True)\n",
    "\n",
    "fulldata_for_plots[\"Fare_transformed\"] = np.log(fulldata_for_plots[\"Fare\"]+1)\n",
    "fulldata_for_plots.drop(\"Fare\",axis = 1,inplace = True)\n",
    "\n",
    "sns.displot(fulldata_for_plots[\"Fare_transformed\"])"
   ]
  },
  {
   "cell_type": "markdown",
   "id": "7afe76e2",
   "metadata": {
    "papermill": {
     "duration": 0.036042,
     "end_time": "2021-09-30T09:36:11.669332",
     "exception": false,
     "start_time": "2021-09-30T09:36:11.633290",
     "status": "completed"
    },
    "tags": []
   },
   "source": [
    "Let's group age values to bins"
   ]
  },
  {
   "cell_type": "code",
   "execution_count": 22,
   "id": "d2212e2f",
   "metadata": {
    "execution": {
     "iopub.execute_input": "2021-09-30T09:36:11.750227Z",
     "iopub.status.busy": "2021-09-30T09:36:11.749255Z",
     "iopub.status.idle": "2021-09-30T09:36:11.755635Z",
     "shell.execute_reply": "2021-09-30T09:36:11.755174Z",
     "shell.execute_reply.started": "2021-09-30T07:51:26.045345Z"
    },
    "papermill": {
     "duration": 0.050213,
     "end_time": "2021-09-30T09:36:11.755793",
     "exception": false,
     "start_time": "2021-09-30T09:36:11.705580",
     "status": "completed"
    },
    "tags": []
   },
   "outputs": [],
   "source": [
    "age_groups = np.array([0,5,15,25,30,40,50,60,70,81])\n",
    "fulldata[\"age_groups\"] = np.digitize(fulldata[\"Age\"],age_groups)\n",
    "fulldata.drop(\"Age\",axis = 1,inplace = True)\n",
    "\n",
    "fulldata_for_plots[\"age_groups\"] = np.digitize(fulldata_for_plots[\"Age\"],age_groups)\n",
    "fulldata_for_plots.drop(\"Age\",axis = 1,inplace = True)"
   ]
  },
  {
   "cell_type": "markdown",
   "id": "e9bd339f",
   "metadata": {
    "papermill": {
     "duration": 0.037051,
     "end_time": "2021-09-30T09:36:11.830824",
     "exception": false,
     "start_time": "2021-09-30T09:36:11.793773",
     "status": "completed"
    },
    "tags": []
   },
   "source": [
    "Let's see survival rate for each of the features values"
   ]
  },
  {
   "cell_type": "code",
   "execution_count": 23,
   "id": "397ab1c3",
   "metadata": {
    "execution": {
     "iopub.execute_input": "2021-09-30T09:36:11.907171Z",
     "iopub.status.busy": "2021-09-30T09:36:11.906535Z",
     "iopub.status.idle": "2021-09-30T09:36:13.407786Z",
     "shell.execute_reply": "2021-09-30T09:36:13.407254Z",
     "shell.execute_reply.started": "2021-09-30T07:51:26.063611Z"
    },
    "papermill": {
     "duration": 1.540537,
     "end_time": "2021-09-30T09:36:13.407921",
     "exception": false,
     "start_time": "2021-09-30T09:36:11.867384",
     "status": "completed"
    },
    "tags": []
   },
   "outputs": [
    {
     "data": {
      "image/png": "[encoded data removed]",
      "text/plain": [
       "<Figure size 1296x720 with 9 Axes>"
      ]
     },
     "metadata": {
      "needs_background": "light"
     },
     "output_type": "display_data"
    }
   ],
   "source": [
    "nominal = fulldata_for_plots.columns.drop([\"Survived\",\"Last_Name\",\"Fare_transformed\"])\n",
    "\n",
    "fig, axes = plt.subplots(3,3, figsize=(18, 10))\n",
    "for i in range(len(nominal)):\n",
    "    col = nominal[i]\n",
    "    sns.countplot(x=col, hue=\"Survived\", data=fulldata_for_plots,ax = axes[int(np.floor(i/3)),i%3])"
   ]
  },
  {
   "cell_type": "markdown",
   "id": "5c07de00",
   "metadata": {
    "papermill": {
     "duration": 0.040074,
     "end_time": "2021-09-30T09:36:13.486495",
     "exception": false,
     "start_time": "2021-09-30T09:36:13.446421",
     "status": "completed"
    },
    "tags": []
   },
   "source": [
    "It looks like all the data is relevant, for each feature we have at least 1 class where the odss of surviving are < 50%"
   ]
  },
  {
   "cell_type": "code",
   "execution_count": 24,
   "id": "81b3e934",
   "metadata": {
    "execution": {
     "iopub.execute_input": "2021-09-30T09:36:13.572305Z",
     "iopub.status.busy": "2021-09-30T09:36:13.569752Z",
     "iopub.status.idle": "2021-09-30T09:36:14.284857Z",
     "shell.execute_reply": "2021-09-30T09:36:14.284300Z",
     "shell.execute_reply.started": "2021-09-30T07:51:28.054367Z"
    },
    "papermill": {
     "duration": 0.760659,
     "end_time": "2021-09-30T09:36:14.285019",
     "exception": false,
     "start_time": "2021-09-30T09:36:13.524360",
     "status": "completed"
    },
    "tags": []
   },
   "outputs": [
    {
     "data": {
      "text/plain": [
       "<AxesSubplot:>"
      ]
     },
     "execution_count": 24,
     "metadata": {},
     "output_type": "execute_result"
    },
    {
     "data": {
      "image/png": "[encoded data removed]",
      "text/plain": [
       "<Figure size 432x288 with 2 Axes>"
      ]
     },
     "metadata": {
      "needs_background": "light"
     },
     "output_type": "display_data"
    }
   ],
   "source": [
    "X = fulldata[train_index].drop([\"Survived\",\"Last_Name\"],axis = 1)\n",
    "y = fulldata[train_index].Survived\n",
    "test_data = fulldata[test_index].drop([\"Survived\",\"Last_Name\"],axis = 1)\n",
    "sns.heatmap(fulldata_for_plots.corr(),annot = True)"
   ]
  },
  {
   "cell_type": "markdown",
   "id": "55f3eb8c",
   "metadata": {
    "papermill": {
     "duration": 0.040689,
     "end_time": "2021-09-30T09:36:14.366995",
     "exception": false,
     "start_time": "2021-09-30T09:36:14.326306",
     "status": "completed"
    },
    "tags": []
   },
   "source": [
    "looks like Pclass,Fare,Sex and Cabin have the best correlation although its rather low"
   ]
  },
  {
   "cell_type": "markdown",
   "id": "46c124bd",
   "metadata": {
    "papermill": {
     "duration": 0.057311,
     "end_time": "2021-09-30T09:36:14.477948",
     "exception": false,
     "start_time": "2021-09-30T09:36:14.420637",
     "status": "completed"
    },
    "tags": []
   },
   "source": [
    "# 5. **Feature Engineering**"
   ]
  },
  {
   "cell_type": "markdown",
   "id": "1d35dcd0",
   "metadata": {
    "papermill": {
     "duration": 0.042241,
     "end_time": "2021-09-30T09:36:14.570238",
     "exception": false,
     "start_time": "2021-09-30T09:36:14.527997",
     "status": "completed"
    },
    "tags": []
   },
   "source": [
    "**now that we have cleaned and visualzed the data let's start engineering some features**\n",
    "\n",
    "first re evaluate our model"
   ]
  },
  {
   "cell_type": "code",
   "execution_count": 25,
   "id": "f94feddf",
   "metadata": {
    "execution": {
     "iopub.execute_input": "2021-09-30T09:36:14.666591Z",
     "iopub.status.busy": "2021-09-30T09:36:14.664091Z",
     "iopub.status.idle": "2021-09-30T09:36:17.165153Z",
     "shell.execute_reply": "2021-09-30T09:36:17.165728Z",
     "shell.execute_reply.started": "2021-09-30T07:51:28.966899Z"
    },
    "papermill": {
     "duration": 2.550681,
     "end_time": "2021-09-30T09:36:17.165946",
     "exception": false,
     "start_time": "2021-09-30T09:36:14.615265",
     "status": "completed"
    },
    "tags": []
   },
   "outputs": [
    {
     "data": {
      "image/png": "[encoded data removed]",
      "text/plain": [
       "<Figure size 576x597.6 with 2 Axes>"
      ]
     },
     "metadata": {
      "needs_background": "light"
     },
     "output_type": "display_data"
    },
    {
     "name": "stdout",
     "output_type": "stream",
     "text": [
      "GradientBoostingClassifier() cv acc is : 0.8272034956304619\n",
      "LogisticRegression(solver='liblinear') cv acc is : 0.80250936329588\n",
      "SVC(kernel='linear') cv acc is : 0.7811610486891387\n",
      "KNeighborsClassifier() cv acc is : 0.7857303370786517\n",
      "GaussianNB() cv acc is : 0.5444319600499375\n"
     ]
    }
   ],
   "source": [
    "#shap values is used for a better understanding of what the model is doing\n",
    "X_train,X_test,y_train,y_test = train_test_split(X,y,train_size = 0.8,random_state = 100)\n",
    "xgb_model = GradientBoostingClassifier()\n",
    "xgb_model.fit(X_train,y_train)\n",
    "explainer = shap.TreeExplainer(xgb_model)\n",
    "shap_values = explainer.shap_values(X_test)\n",
    "shap.summary_plot(shap_values, X_test)\n",
    "cv_eval_model(X,y)"
   ]
  },
  {
   "cell_type": "code",
   "execution_count": 26,
   "id": "f4271616",
   "metadata": {
    "execution": {
     "iopub.execute_input": "2021-09-30T09:36:17.268280Z",
     "iopub.status.busy": "2021-09-30T09:36:17.265489Z",
     "iopub.status.idle": "2021-09-30T09:36:17.568970Z",
     "shell.execute_reply": "2021-09-30T09:36:17.568308Z",
     "shell.execute_reply.started": "2021-09-30T07:51:31.816926Z"
    },
    "papermill": {
     "duration": 0.356617,
     "end_time": "2021-09-30T09:36:17.569124",
     "exception": false,
     "start_time": "2021-09-30T09:36:17.212507",
     "status": "completed"
    },
    "tags": []
   },
   "outputs": [
    {
     "data": {
      "text/plain": [
       "<AxesSubplot:xlabel='Family_members', ylabel='count'>"
      ]
     },
     "execution_count": 26,
     "metadata": {},
     "output_type": "execute_result"
    },
    {
     "data": {
      "image/png": "[encoded data removed]",
      "text/plain": [
       "<Figure size 432x288 with 1 Axes>"
      ]
     },
     "metadata": {
      "needs_background": "light"
     },
     "output_type": "display_data"
    }
   ],
   "source": [
    "fulldata[\"Family_members\"] = fulldata[\"Parch\"] + fulldata[\"SibSp\"]\n",
    "sns.countplot(x=\"Family_members\", hue=\"Survived\", data=fulldata)"
   ]
  },
  {
   "cell_type": "markdown",
   "id": "4f2211a3",
   "metadata": {
    "papermill": {
     "duration": 0.042248,
     "end_time": "2021-09-30T09:36:17.655394",
     "exception": false,
     "start_time": "2021-09-30T09:36:17.613146",
     "status": "completed"
    },
    "tags": []
   },
   "source": [
    "it looks like we can group the number of family memebers that have similar survival ratio"
   ]
  },
  {
   "cell_type": "code",
   "execution_count": 27,
   "id": "d4b62f09",
   "metadata": {
    "execution": {
     "iopub.execute_input": "2021-09-30T09:36:17.749191Z",
     "iopub.status.busy": "2021-09-30T09:36:17.747408Z",
     "iopub.status.idle": "2021-09-30T09:36:17.984815Z",
     "shell.execute_reply": "2021-09-30T09:36:17.985344Z",
     "shell.execute_reply.started": "2021-09-30T07:51:32.205100Z"
    },
    "papermill": {
     "duration": 0.287408,
     "end_time": "2021-09-30T09:36:17.985534",
     "exception": false,
     "start_time": "2021-09-30T09:36:17.698126",
     "status": "completed"
    },
    "tags": []
   },
   "outputs": [
    {
     "data": {
      "text/plain": [
       "<AxesSubplot:xlabel='Family_members_groups', ylabel='count'>"
      ]
     },
     "execution_count": 27,
     "metadata": {},
     "output_type": "execute_result"
    },
    {
     "data": {
      "image/png": "[encoded data removed]",
      "text/plain": [
       "<Figure size 432x288 with 1 Axes>"
      ]
     },
     "metadata": {
      "needs_background": "light"
     },
     "output_type": "display_data"
    }
   ],
   "source": [
    "Family_members_groups = np.array([0,1,4,7,11])\n",
    "fulldata[\"Family_members_groups\"] = np.digitize(fulldata[\"Family_members\"],Family_members_groups)\n",
    "fulldata.drop([\"Family_members\"],axis = 1,inplace = True)\n",
    "\n",
    "sns.countplot(x=\"Family_members_groups\", hue=\"Survived\", data=fulldata)"
   ]
  },
  {
   "cell_type": "markdown",
   "id": "1a3cf4af",
   "metadata": {
    "papermill": {
     "duration": 0.042919,
     "end_time": "2021-09-30T09:36:18.071999",
     "exception": false,
     "start_time": "2021-09-30T09:36:18.029080",
     "status": "completed"
    },
    "tags": []
   },
   "source": [
    "Now that we have engineered some features let's see which ones are more important, we will investigate for the XGB model"
   ]
  },
  {
   "cell_type": "code",
   "execution_count": 28,
   "id": "9a9a74d3",
   "metadata": {
    "execution": {
     "iopub.execute_input": "2021-09-30T09:36:18.167453Z",
     "iopub.status.busy": "2021-09-30T09:36:18.163343Z",
     "iopub.status.idle": "2021-09-30T09:36:20.446591Z",
     "shell.execute_reply": "2021-09-30T09:36:20.447079Z",
     "shell.execute_reply.started": "2021-09-30T07:51:32.515455Z"
    },
    "papermill": {
     "duration": 2.331905,
     "end_time": "2021-09-30T09:36:20.447245",
     "exception": false,
     "start_time": "2021-09-30T09:36:18.115340",
     "status": "completed"
    },
    "tags": []
   },
   "outputs": [
    {
     "name": "stdout",
     "output_type": "stream",
     "text": [
      "GradientBoostingClassifier() cv acc is : 0.826079900124844\n",
      "LogisticRegression(solver='liblinear') cv acc is : 0.7991510611735331\n",
      "SVC(kernel='linear') cv acc is : 0.7822846441947566\n",
      "KNeighborsClassifier() cv acc is : 0.7778901373283396\n",
      "GaussianNB() cv acc is : 0.5567790262172284\n",
      "Sex_male                 0.159146\n",
      "Fare_transformed         0.137145\n",
      "Cabin_Z                  0.062519\n",
      "Family_members_groups    0.045797\n",
      "Cabin_C                  0.035381\n",
      "Pclass_3                 0.032532\n",
      "SibSp                    0.025047\n",
      "Parch                    0.021964\n",
      "Cabin_T                  0.021651\n",
      "Embarked_Q               0.019854\n",
      "Cabin_E                  0.016237\n",
      "Cabin_B                  0.011287\n",
      "Cabin_D                  0.003192\n",
      "Cabin_G                  0.000555\n",
      "Cabin_F                  0.000000\n",
      "Embarked_S               0.000000\n",
      "Pclass_2                 0.000000\n",
      "age_groups               0.000000\n",
      "Name: MI Scores, dtype: float64\n"
     ]
    },
    {
     "data": {
      "text/html": [
       "\n",
       "    <style>\n",
       "    table.eli5-weights tr:hover {\n",
       "        filter: brightness(85%);\n",
       "    }\n",
       "</style>\n",
       "\n",
       "\n",
       "\n",
       "    \n",
       "\n",
       "    \n",
       "\n",
       "    \n",
       "\n",
       "    \n",
       "\n",
       "    \n",
       "\n",
       "    \n",
       "\n",
       "\n",
       "    \n",
       "\n",
       "    \n",
       "\n",
       "    \n",
       "\n",
       "    \n",
       "\n",
       "    \n",
       "\n",
       "    \n",
       "\n",
       "\n",
       "    \n",
       "\n",
       "    \n",
       "\n",
       "    \n",
       "\n",
       "    \n",
       "\n",
       "    \n",
       "        <table class=\"eli5-weights eli5-feature-importances\" style=\"border-collapse: collapse; border: none; margin-top: 0em; table-layout: auto;\">\n",
       "    <thead>\n",
       "    <tr style=\"border: none;\">\n",
       "        <th style=\"padding: 0 1em 0 0.5em; text-align: right; border: none;\">Weight</th>\n",
       "        <th style=\"padding: 0 0.5em 0 0.5em; text-align: left; border: none;\">Feature</th>\n",
       "    </tr>\n",
       "    </thead>\n",
       "    <tbody>\n",
       "    \n",
       "        <tr style=\"background-color: hsl(120, 100.00%, 80.00%); border: none;\">\n",
       "            <td style=\"padding: 0 1em 0 0.5em; text-align: right; border: none;\">\n",
       "                0.1888\n",
       "                \n",
       "                    &plusmn; 0.0444\n",
       "                \n",
       "            </td>\n",
       "            <td style=\"padding: 0 0.5em 0 0.5em; text-align: left; border: none;\">\n",
       "                Sex_male\n",
       "            </td>\n",
       "        </tr>\n",
       "    \n",
       "        <tr style=\"background-color: hsl(120, 100.00%, 85.48%); border: none;\">\n",
       "            <td style=\"padding: 0 1em 0 0.5em; text-align: right; border: none;\">\n",
       "                0.1196\n",
       "                \n",
       "                    &plusmn; 0.0230\n",
       "                \n",
       "            </td>\n",
       "            <td style=\"padding: 0 0.5em 0 0.5em; text-align: left; border: none;\">\n",
       "                Pclass_3\n",
       "            </td>\n",
       "        </tr>\n",
       "    \n",
       "        <tr style=\"background-color: hsl(120, 100.00%, 93.22%); border: none;\">\n",
       "            <td style=\"padding: 0 1em 0 0.5em; text-align: right; border: none;\">\n",
       "                0.0402\n",
       "                \n",
       "                    &plusmn; 0.0295\n",
       "                \n",
       "            </td>\n",
       "            <td style=\"padding: 0 0.5em 0 0.5em; text-align: left; border: none;\">\n",
       "                Fare_transformed\n",
       "            </td>\n",
       "        </tr>\n",
       "    \n",
       "        <tr style=\"background-color: hsl(120, 100.00%, 93.90%); border: none;\">\n",
       "            <td style=\"padding: 0 1em 0 0.5em; text-align: right; border: none;\">\n",
       "                0.0346\n",
       "                \n",
       "                    &plusmn; 0.0476\n",
       "                \n",
       "            </td>\n",
       "            <td style=\"padding: 0 0.5em 0 0.5em; text-align: left; border: none;\">\n",
       "                age_groups\n",
       "            </td>\n",
       "        </tr>\n",
       "    \n",
       "        <tr style=\"background-color: hsl(120, 100.00%, 95.05%); border: none;\">\n",
       "            <td style=\"padding: 0 1em 0 0.5em; text-align: right; border: none;\">\n",
       "                0.0257\n",
       "                \n",
       "                    &plusmn; 0.0114\n",
       "                \n",
       "            </td>\n",
       "            <td style=\"padding: 0 0.5em 0 0.5em; text-align: left; border: none;\">\n",
       "                Family_members_groups\n",
       "            </td>\n",
       "        </tr>\n",
       "    \n",
       "        <tr style=\"background-color: hsl(120, 100.00%, 97.85%); border: none;\">\n",
       "            <td style=\"padding: 0 1em 0 0.5em; text-align: right; border: none;\">\n",
       "                0.0078\n",
       "                \n",
       "                    &plusmn; 0.0055\n",
       "                \n",
       "            </td>\n",
       "            <td style=\"padding: 0 0.5em 0 0.5em; text-align: left; border: none;\">\n",
       "                SibSp\n",
       "            </td>\n",
       "        </tr>\n",
       "    \n",
       "        <tr style=\"background-color: hsl(120, 100.00%, 97.85%); border: none;\">\n",
       "            <td style=\"padding: 0 1em 0 0.5em; text-align: right; border: none;\">\n",
       "                0.0078\n",
       "                \n",
       "                    &plusmn; 0.0134\n",
       "                \n",
       "            </td>\n",
       "            <td style=\"padding: 0 0.5em 0 0.5em; text-align: left; border: none;\">\n",
       "                Embarked_S\n",
       "            </td>\n",
       "        </tr>\n",
       "    \n",
       "        <tr style=\"background-color: hsl(120, 100.00%, 98.30%); border: none;\">\n",
       "            <td style=\"padding: 0 1em 0 0.5em; text-align: right; border: none;\">\n",
       "                0.0056\n",
       "                \n",
       "                    &plusmn; 0.0071\n",
       "                \n",
       "            </td>\n",
       "            <td style=\"padding: 0 0.5em 0 0.5em; text-align: left; border: none;\">\n",
       "                Embarked_Q\n",
       "            </td>\n",
       "        </tr>\n",
       "    \n",
       "        <tr style=\"background-color: hsl(120, 100.00%, 99.45%); border: none;\">\n",
       "            <td style=\"padding: 0 1em 0 0.5em; text-align: right; border: none;\">\n",
       "                0.0011\n",
       "                \n",
       "                    &plusmn; 0.0148\n",
       "                \n",
       "            </td>\n",
       "            <td style=\"padding: 0 0.5em 0 0.5em; text-align: left; border: none;\">\n",
       "                Cabin_Z\n",
       "            </td>\n",
       "        </tr>\n",
       "    \n",
       "        <tr style=\"background-color: hsl(0, 100.00%, 100.00%); border: none;\">\n",
       "            <td style=\"padding: 0 1em 0 0.5em; text-align: right; border: none;\">\n",
       "                0\n",
       "                \n",
       "                    &plusmn; 0.0000\n",
       "                \n",
       "            </td>\n",
       "            <td style=\"padding: 0 0.5em 0 0.5em; text-align: left; border: none;\">\n",
       "                Cabin_T\n",
       "            </td>\n",
       "        </tr>\n",
       "    \n",
       "        <tr style=\"background-color: hsl(0, 100.00%, 100.00%); border: none;\">\n",
       "            <td style=\"padding: 0 1em 0 0.5em; text-align: right; border: none;\">\n",
       "                0\n",
       "                \n",
       "                    &plusmn; 0.0000\n",
       "                \n",
       "            </td>\n",
       "            <td style=\"padding: 0 0.5em 0 0.5em; text-align: left; border: none;\">\n",
       "                Cabin_F\n",
       "            </td>\n",
       "        </tr>\n",
       "    \n",
       "        <tr style=\"background-color: hsl(0, 100.00%, 100.00%); border: none;\">\n",
       "            <td style=\"padding: 0 1em 0 0.5em; text-align: right; border: none;\">\n",
       "                0\n",
       "                \n",
       "                    &plusmn; 0.0000\n",
       "                \n",
       "            </td>\n",
       "            <td style=\"padding: 0 0.5em 0 0.5em; text-align: left; border: none;\">\n",
       "                Cabin_D\n",
       "            </td>\n",
       "        </tr>\n",
       "    \n",
       "        <tr style=\"background-color: hsl(0, 100.00%, 100.00%); border: none;\">\n",
       "            <td style=\"padding: 0 1em 0 0.5em; text-align: right; border: none;\">\n",
       "                0\n",
       "                \n",
       "                    &plusmn; 0.0000\n",
       "                \n",
       "            </td>\n",
       "            <td style=\"padding: 0 0.5em 0 0.5em; text-align: left; border: none;\">\n",
       "                Cabin_B\n",
       "            </td>\n",
       "        </tr>\n",
       "    \n",
       "        <tr style=\"background-color: hsl(0, 100.00%, 100.00%); border: none;\">\n",
       "            <td style=\"padding: 0 1em 0 0.5em; text-align: right; border: none;\">\n",
       "                0\n",
       "                \n",
       "                    &plusmn; 0.0000\n",
       "                \n",
       "            </td>\n",
       "            <td style=\"padding: 0 0.5em 0 0.5em; text-align: left; border: none;\">\n",
       "                Pclass_2\n",
       "            </td>\n",
       "        </tr>\n",
       "    \n",
       "        <tr style=\"background-color: hsl(0, 100.00%, 100.00%); border: none;\">\n",
       "            <td style=\"padding: 0 1em 0 0.5em; text-align: right; border: none;\">\n",
       "                0.0000\n",
       "                \n",
       "                    &plusmn; 0.0100\n",
       "                \n",
       "            </td>\n",
       "            <td style=\"padding: 0 0.5em 0 0.5em; text-align: left; border: none;\">\n",
       "                Parch\n",
       "            </td>\n",
       "        </tr>\n",
       "    \n",
       "        <tr style=\"background-color: hsl(0, 100.00%, 100.00%); border: none;\">\n",
       "            <td style=\"padding: 0 1em 0 0.5em; text-align: right; border: none;\">\n",
       "                0\n",
       "                \n",
       "                    &plusmn; 0.0000\n",
       "                \n",
       "            </td>\n",
       "            <td style=\"padding: 0 0.5em 0 0.5em; text-align: left; border: none;\">\n",
       "                Cabin_G\n",
       "            </td>\n",
       "        </tr>\n",
       "    \n",
       "        <tr style=\"background-color: hsl(0, 100.00%, 99.10%); border: none;\">\n",
       "            <td style=\"padding: 0 1em 0 0.5em; text-align: right; border: none;\">\n",
       "                -0.0022\n",
       "                \n",
       "                    &plusmn; 0.0055\n",
       "                \n",
       "            </td>\n",
       "            <td style=\"padding: 0 0.5em 0 0.5em; text-align: left; border: none;\">\n",
       "                Cabin_C\n",
       "            </td>\n",
       "        </tr>\n",
       "    \n",
       "        <tr style=\"background-color: hsl(0, 100.00%, 98.30%); border: none;\">\n",
       "            <td style=\"padding: 0 1em 0 0.5em; text-align: right; border: none;\">\n",
       "                -0.0056\n",
       "                \n",
       "                    &plusmn; 0.0071\n",
       "                \n",
       "            </td>\n",
       "            <td style=\"padding: 0 0.5em 0 0.5em; text-align: left; border: none;\">\n",
       "                Cabin_E\n",
       "            </td>\n",
       "        </tr>\n",
       "    \n",
       "    \n",
       "    </tbody>\n",
       "</table>\n",
       "    \n",
       "\n",
       "    \n",
       "\n",
       "\n",
       "    \n",
       "\n",
       "    \n",
       "\n",
       "    \n",
       "\n",
       "    \n",
       "\n",
       "    \n",
       "\n",
       "    \n",
       "\n",
       "\n",
       "\n"
      ],
      "text/plain": [
       "<IPython.core.display.HTML object>"
      ]
     },
     "execution_count": 28,
     "metadata": {},
     "output_type": "execute_result"
    }
   ],
   "source": [
    "X = fulldata[train_index].drop([\"Survived\",\"Last_Name\"],axis = 1)\n",
    "cv_eval_model(X,y)\n",
    "print(make_mi_scores(X, y, X.dtypes == \"int64\"))\n",
    "\n",
    "X_train,X_test,y_train,y_test = train_test_split(X,y,train_size = 0.8,random_state = 100)\n",
    "xgb_model = GradientBoostingClassifier()\n",
    "xgb_model.fit(X_train,y_train)\n",
    "perm = PermutationImportance(xgb_model, random_state=1).fit(X_test, y_test,n_iter=20)\n",
    "eli5.show_weights(perm, feature_names = X_test.columns.tolist(),top  = 20)"
   ]
  },
  {
   "cell_type": "code",
   "execution_count": 29,
   "id": "56238f3b",
   "metadata": {
    "execution": {
     "iopub.execute_input": "2021-09-30T09:36:20.548251Z",
     "iopub.status.busy": "2021-09-30T09:36:20.547558Z",
     "iopub.status.idle": "2021-09-30T09:36:21.249508Z",
     "shell.execute_reply": "2021-09-30T09:36:21.248995Z",
     "shell.execute_reply.started": "2021-09-30T07:51:35.444686Z"
    },
    "papermill": {
     "duration": 0.754875,
     "end_time": "2021-09-30T09:36:21.249663",
     "exception": false,
     "start_time": "2021-09-30T09:36:20.494788",
     "status": "completed"
    },
    "tags": []
   },
   "outputs": [
    {
     "data": {
      "image/png": "[encoded data removed]",
      "text/plain": [
       "<Figure size 576x626.4 with 2 Axes>"
      ]
     },
     "metadata": {
      "needs_background": "light"
     },
     "output_type": "display_data"
    }
   ],
   "source": [
    "explainer = shap.TreeExplainer(xgb_model)\n",
    "shap_values = explainer.shap_values(X_test)\n",
    "shap.summary_plot(shap_values, X_test)"
   ]
  },
  {
   "cell_type": "markdown",
   "id": "929625b7",
   "metadata": {
    "papermill": {
     "duration": 0.046786,
     "end_time": "2021-09-30T09:36:21.343238",
     "exception": false,
     "start_time": "2021-09-30T09:36:21.296452",
     "status": "completed"
    },
    "tags": []
   },
   "source": [
    "Looks like Parch and SibSp have no importance to our model, let's keep the more important features"
   ]
  },
  {
   "cell_type": "code",
   "execution_count": 30,
   "id": "704f68eb",
   "metadata": {
    "execution": {
     "iopub.execute_input": "2021-09-30T09:36:21.441908Z",
     "iopub.status.busy": "2021-09-30T09:36:21.441246Z",
     "iopub.status.idle": "2021-09-30T09:36:22.966165Z",
     "shell.execute_reply": "2021-09-30T09:36:22.965275Z",
     "shell.execute_reply.started": "2021-09-30T07:51:36.785141Z"
    },
    "papermill": {
     "duration": 1.576737,
     "end_time": "2021-09-30T09:36:22.966371",
     "exception": false,
     "start_time": "2021-09-30T09:36:21.389634",
     "status": "completed"
    },
    "tags": []
   },
   "outputs": [
    {
     "name": "stdout",
     "output_type": "stream",
     "text": [
      "GradientBoostingClassifier() cv acc is : 0.829450686641698\n",
      "LogisticRegression(solver='liblinear') cv acc is : 0.8036204744069912\n",
      "SVC(kernel='linear') cv acc is : 0.7833832709113608\n",
      "KNeighborsClassifier() cv acc is : 0.7992259675405743\n",
      "GaussianNB() cv acc is : 0.5915355805243445\n"
     ]
    }
   ],
   "source": [
    "X = fulldata[train_index].drop([\"SibSp\",\"Parch\",\"Survived\",\"Last_Name\"],axis = 1)\n",
    "cv_eval_model(X,y)"
   ]
  },
  {
   "cell_type": "code",
   "execution_count": 31,
   "id": "4a6ed49a",
   "metadata": {
    "execution": {
     "iopub.execute_input": "2021-09-30T09:36:23.070097Z",
     "iopub.status.busy": "2021-09-30T09:36:23.069394Z",
     "iopub.status.idle": "2021-09-30T09:36:23.354267Z",
     "shell.execute_reply": "2021-09-30T09:36:23.353737Z",
     "shell.execute_reply.started": "2021-09-30T07:51:38.652113Z"
    },
    "papermill": {
     "duration": 0.340434,
     "end_time": "2021-09-30T09:36:23.354402",
     "exception": false,
     "start_time": "2021-09-30T09:36:23.013968",
     "status": "completed"
    },
    "tags": []
   },
   "outputs": [
    {
     "data": {
      "text/html": [
       "\n",
       "    <style>\n",
       "    table.eli5-weights tr:hover {\n",
       "        filter: brightness(85%);\n",
       "    }\n",
       "</style>\n",
       "\n",
       "\n",
       "\n",
       "    \n",
       "\n",
       "    \n",
       "\n",
       "    \n",
       "\n",
       "    \n",
       "\n",
       "    \n",
       "\n",
       "    \n",
       "\n",
       "\n",
       "    \n",
       "\n",
       "    \n",
       "\n",
       "    \n",
       "\n",
       "    \n",
       "\n",
       "    \n",
       "\n",
       "    \n",
       "\n",
       "\n",
       "    \n",
       "\n",
       "    \n",
       "\n",
       "    \n",
       "\n",
       "    \n",
       "\n",
       "    \n",
       "        <table class=\"eli5-weights eli5-feature-importances\" style=\"border-collapse: collapse; border: none; margin-top: 0em; table-layout: auto;\">\n",
       "    <thead>\n",
       "    <tr style=\"border: none;\">\n",
       "        <th style=\"padding: 0 1em 0 0.5em; text-align: right; border: none;\">Weight</th>\n",
       "        <th style=\"padding: 0 0.5em 0 0.5em; text-align: left; border: none;\">Feature</th>\n",
       "    </tr>\n",
       "    </thead>\n",
       "    <tbody>\n",
       "    \n",
       "        <tr style=\"background-color: hsl(120, 100.00%, 80.00%); border: none;\">\n",
       "            <td style=\"padding: 0 1em 0 0.5em; text-align: right; border: none;\">\n",
       "                0.1855\n",
       "                \n",
       "                    &plusmn; 0.0259\n",
       "                \n",
       "            </td>\n",
       "            <td style=\"padding: 0 0.5em 0 0.5em; text-align: left; border: none;\">\n",
       "                Sex_male\n",
       "            </td>\n",
       "        </tr>\n",
       "    \n",
       "        <tr style=\"background-color: hsl(120, 100.00%, 87.69%); border: none;\">\n",
       "            <td style=\"padding: 0 1em 0 0.5em; text-align: right; border: none;\">\n",
       "                0.0927\n",
       "                \n",
       "                    &plusmn; 0.0089\n",
       "                \n",
       "            </td>\n",
       "            <td style=\"padding: 0 0.5em 0 0.5em; text-align: left; border: none;\">\n",
       "                Pclass_3\n",
       "            </td>\n",
       "        </tr>\n",
       "    \n",
       "        <tr style=\"background-color: hsl(120, 100.00%, 92.36%); border: none;\">\n",
       "            <td style=\"padding: 0 1em 0 0.5em; text-align: right; border: none;\">\n",
       "                0.0469\n",
       "                \n",
       "                    &plusmn; 0.0321\n",
       "                \n",
       "            </td>\n",
       "            <td style=\"padding: 0 0.5em 0 0.5em; text-align: left; border: none;\">\n",
       "                age_groups\n",
       "            </td>\n",
       "        </tr>\n",
       "    \n",
       "        <tr style=\"background-color: hsl(120, 100.00%, 92.49%); border: none;\">\n",
       "            <td style=\"padding: 0 1em 0 0.5em; text-align: right; border: none;\">\n",
       "                0.0458\n",
       "                \n",
       "                    &plusmn; 0.0295\n",
       "                \n",
       "            </td>\n",
       "            <td style=\"padding: 0 0.5em 0 0.5em; text-align: left; border: none;\">\n",
       "                Fare_transformed\n",
       "            </td>\n",
       "        </tr>\n",
       "    \n",
       "        <tr style=\"background-color: hsl(120, 100.00%, 94.68%); border: none;\">\n",
       "            <td style=\"padding: 0 1em 0 0.5em; text-align: right; border: none;\">\n",
       "                0.0279\n",
       "                \n",
       "                    &plusmn; 0.0100\n",
       "                \n",
       "            </td>\n",
       "            <td style=\"padding: 0 0.5em 0 0.5em; text-align: left; border: none;\">\n",
       "                Family_members_groups\n",
       "            </td>\n",
       "        </tr>\n",
       "    \n",
       "        <tr style=\"background-color: hsl(120, 100.00%, 96.46%); border: none;\">\n",
       "            <td style=\"padding: 0 1em 0 0.5em; text-align: right; border: none;\">\n",
       "                0.0156\n",
       "                \n",
       "                    &plusmn; 0.0130\n",
       "                \n",
       "            </td>\n",
       "            <td style=\"padding: 0 0.5em 0 0.5em; text-align: left; border: none;\">\n",
       "                Embarked_S\n",
       "            </td>\n",
       "        </tr>\n",
       "    \n",
       "        <tr style=\"background-color: hsl(120, 100.00%, 98.04%); border: none;\">\n",
       "            <td style=\"padding: 0 1em 0 0.5em; text-align: right; border: none;\">\n",
       "                0.0067\n",
       "                \n",
       "                    &plusmn; 0.0109\n",
       "                \n",
       "            </td>\n",
       "            <td style=\"padding: 0 0.5em 0 0.5em; text-align: left; border: none;\">\n",
       "                Embarked_Q\n",
       "            </td>\n",
       "        </tr>\n",
       "    \n",
       "        <tr style=\"background-color: hsl(120, 100.00%, 98.53%); border: none;\">\n",
       "            <td style=\"padding: 0 1em 0 0.5em; text-align: right; border: none;\">\n",
       "                0.0045\n",
       "                \n",
       "                    &plusmn; 0.0130\n",
       "                \n",
       "            </td>\n",
       "            <td style=\"padding: 0 0.5em 0 0.5em; text-align: left; border: none;\">\n",
       "                Cabin_C\n",
       "            </td>\n",
       "        </tr>\n",
       "    \n",
       "        <tr style=\"background-color: hsl(0, 100.00%, 100.00%); border: none;\">\n",
       "            <td style=\"padding: 0 1em 0 0.5em; text-align: right; border: none;\">\n",
       "                0\n",
       "                \n",
       "                    &plusmn; 0.0000\n",
       "                \n",
       "            </td>\n",
       "            <td style=\"padding: 0 0.5em 0 0.5em; text-align: left; border: none;\">\n",
       "                Pclass_2\n",
       "            </td>\n",
       "        </tr>\n",
       "    \n",
       "        <tr style=\"background-color: hsl(0, 100.00%, 100.00%); border: none;\">\n",
       "            <td style=\"padding: 0 1em 0 0.5em; text-align: right; border: none;\">\n",
       "                0\n",
       "                \n",
       "                    &plusmn; 0.0000\n",
       "                \n",
       "            </td>\n",
       "            <td style=\"padding: 0 0.5em 0 0.5em; text-align: left; border: none;\">\n",
       "                Cabin_T\n",
       "            </td>\n",
       "        </tr>\n",
       "    \n",
       "        <tr style=\"background-color: hsl(0, 100.00%, 100.00%); border: none;\">\n",
       "            <td style=\"padding: 0 1em 0 0.5em; text-align: right; border: none;\">\n",
       "                0\n",
       "                \n",
       "                    &plusmn; 0.0000\n",
       "                \n",
       "            </td>\n",
       "            <td style=\"padding: 0 0.5em 0 0.5em; text-align: left; border: none;\">\n",
       "                Cabin_G\n",
       "            </td>\n",
       "        </tr>\n",
       "    \n",
       "        <tr style=\"background-color: hsl(0, 100.00%, 100.00%); border: none;\">\n",
       "            <td style=\"padding: 0 1em 0 0.5em; text-align: right; border: none;\">\n",
       "                0\n",
       "                \n",
       "                    &plusmn; 0.0000\n",
       "                \n",
       "            </td>\n",
       "            <td style=\"padding: 0 0.5em 0 0.5em; text-align: left; border: none;\">\n",
       "                Cabin_F\n",
       "            </td>\n",
       "        </tr>\n",
       "    \n",
       "        <tr style=\"background-color: hsl(0, 100.00%, 100.00%); border: none;\">\n",
       "            <td style=\"padding: 0 1em 0 0.5em; text-align: right; border: none;\">\n",
       "                0\n",
       "                \n",
       "                    &plusmn; 0.0000\n",
       "                \n",
       "            </td>\n",
       "            <td style=\"padding: 0 0.5em 0 0.5em; text-align: left; border: none;\">\n",
       "                Cabin_E\n",
       "            </td>\n",
       "        </tr>\n",
       "    \n",
       "        <tr style=\"background-color: hsl(0, 100.00%, 100.00%); border: none;\">\n",
       "            <td style=\"padding: 0 1em 0 0.5em; text-align: right; border: none;\">\n",
       "                0\n",
       "                \n",
       "                    &plusmn; 0.0000\n",
       "                \n",
       "            </td>\n",
       "            <td style=\"padding: 0 0.5em 0 0.5em; text-align: left; border: none;\">\n",
       "                Cabin_D\n",
       "            </td>\n",
       "        </tr>\n",
       "    \n",
       "        <tr style=\"background-color: hsl(0, 100.00%, 99.44%); border: none;\">\n",
       "            <td style=\"padding: 0 1em 0 0.5em; text-align: right; border: none;\">\n",
       "                -0.0011\n",
       "                \n",
       "                    &plusmn; 0.0045\n",
       "                \n",
       "            </td>\n",
       "            <td style=\"padding: 0 0.5em 0 0.5em; text-align: left; border: none;\">\n",
       "                Cabin_B\n",
       "            </td>\n",
       "        </tr>\n",
       "    \n",
       "        <tr style=\"background-color: hsl(0, 100.00%, 98.80%); border: none;\">\n",
       "            <td style=\"padding: 0 1em 0 0.5em; text-align: right; border: none;\">\n",
       "                -0.0034\n",
       "                \n",
       "                    &plusmn; 0.0055\n",
       "                \n",
       "            </td>\n",
       "            <td style=\"padding: 0 0.5em 0 0.5em; text-align: left; border: none;\">\n",
       "                Cabin_Z\n",
       "            </td>\n",
       "        </tr>\n",
       "    \n",
       "    \n",
       "    </tbody>\n",
       "</table>\n",
       "    \n",
       "\n",
       "    \n",
       "\n",
       "\n",
       "    \n",
       "\n",
       "    \n",
       "\n",
       "    \n",
       "\n",
       "    \n",
       "\n",
       "    \n",
       "\n",
       "    \n",
       "\n",
       "\n",
       "\n"
      ],
      "text/plain": [
       "<IPython.core.display.HTML object>"
      ]
     },
     "execution_count": 31,
     "metadata": {},
     "output_type": "execute_result"
    }
   ],
   "source": [
    "xgb_model = GradientBoostingClassifier()\n",
    "X_train,X_test,y_train,y_test = train_test_split(X,y,train_size = 0.8,random_state = 100)\n",
    "xgb_model.fit(X_train,y_train)\n",
    "perm = PermutationImportance(xgb_model, random_state=1).fit(X_test, y_test,n_iter=20)\n",
    "eli5.show_weights(perm, feature_names = X_test.columns.tolist(),top  = 20)"
   ]
  },
  {
   "cell_type": "code",
   "execution_count": 32,
   "id": "72821703",
   "metadata": {
    "execution": {
     "iopub.execute_input": "2021-09-30T09:36:23.457634Z",
     "iopub.status.busy": "2021-09-30T09:36:23.456976Z",
     "iopub.status.idle": "2021-09-30T09:36:24.397223Z",
     "shell.execute_reply": "2021-09-30T09:36:24.396467Z",
     "shell.execute_reply.started": "2021-09-30T07:51:39.037625Z"
    },
    "papermill": {
     "duration": 0.994611,
     "end_time": "2021-09-30T09:36:24.397365",
     "exception": false,
     "start_time": "2021-09-30T09:36:23.402754",
     "status": "completed"
    },
    "tags": []
   },
   "outputs": [
    {
     "data": {
      "image/png": "[encoded data removed]",
      "text/plain": [
       "<Figure size 576x568.8 with 2 Axes>"
      ]
     },
     "metadata": {
      "needs_background": "light"
     },
     "output_type": "display_data"
    }
   ],
   "source": [
    "explainer = shap.TreeExplainer(xgb_model)\n",
    "shap_values = explainer.shap_values(X_test)\n",
    "shap.summary_plot(shap_values, X_test)"
   ]
  },
  {
   "cell_type": "code",
   "execution_count": 33,
   "id": "e1292cea",
   "metadata": {
    "execution": {
     "iopub.execute_input": "2021-09-30T09:36:24.507986Z",
     "iopub.status.busy": "2021-09-30T09:36:24.504586Z",
     "iopub.status.idle": "2021-09-30T09:36:26.277730Z",
     "shell.execute_reply": "2021-09-30T09:36:26.278236Z",
     "shell.execute_reply.started": "2021-09-30T07:51:39.875354Z"
    },
    "papermill": {
     "duration": 1.831312,
     "end_time": "2021-09-30T09:36:26.278407",
     "exception": false,
     "start_time": "2021-09-30T09:36:24.447095",
     "status": "completed"
    },
    "tags": []
   },
   "outputs": [
    {
     "name": "stdout",
     "output_type": "stream",
     "text": [
      "GradientBoostingClassifier() cv acc is : 0.829450686641698\n",
      "LogisticRegression(solver='liblinear') cv acc is : 0.8036204744069912\n",
      "SVC(kernel='linear') cv acc is : 0.7833832709113608\n",
      "KNeighborsClassifier() cv acc is : 0.7992259675405743\n",
      "GaussianNB() cv acc is : 0.5915355805243445\n",
      "0.8491620111731844\n"
     ]
    }
   ],
   "source": [
    "test_data = fulldata[test_index].drop([\"SibSp\",\"Parch\",\"Survived\",\"Last_Name\"],axis = 1)\n",
    "cv_eval_model(X,y)\n",
    "\n",
    "xgb_model = GradientBoostingClassifier()\n",
    "lr_model = LogisticRegression(solver='liblinear')\n",
    "svm_model = SVC(kernel=\"linear\")\n",
    "KNN_model = KNeighborsClassifier()\n",
    "\n",
    "estimator = [('xgb_model',xgb_model),('lr_model',lr_model),('svm_model',svm_model),('KNN_model',KNN_model)]\n",
    "vot = VotingClassifier(estimators = estimator, voting ='hard')\n",
    "vot.fit(X,y)\n",
    "\n",
    "## delete\n",
    "y_pred = vot.predict(X_test)\n",
    "print(accuracy_score(y_test, y_pred))\n",
    "\n",
    "y_pred_sbu = vot.predict(test_data)\n",
    "sub = pd.DataFrame({\"Survived\":y_pred_sbu.astype(int),\"PassengerId\" : raw_data_test[\"PassengerId\"]})\n",
    "sub.to_csv('submission.csv', index=False)"
   ]
  },
  {
   "cell_type": "markdown",
   "id": "47401f72",
   "metadata": {
    "papermill": {
     "duration": 0.050381,
     "end_time": "2021-09-30T09:36:26.378811",
     "exception": false,
     "start_time": "2021-09-30T09:36:26.328430",
     "status": "completed"
    },
    "tags": []
   },
   "source": [
    "# **6. Lets tune our paramaters!**"
   ]
  },
  {
   "cell_type": "code",
   "execution_count": 34,
   "id": "374b1740",
   "metadata": {
    "execution": {
     "iopub.execute_input": "2021-09-30T09:36:26.485984Z",
     "iopub.status.busy": "2021-09-30T09:36:26.484984Z",
     "iopub.status.idle": "2021-09-30T09:36:26.491263Z",
     "shell.execute_reply": "2021-09-30T09:36:26.491709Z",
     "shell.execute_reply.started": "2021-09-30T09:33:29.727491Z"
    },
    "papermill": {
     "duration": 0.060859,
     "end_time": "2021-09-30T09:36:26.491892",
     "exception": false,
     "start_time": "2021-09-30T09:36:26.431033",
     "status": "completed"
    },
    "tags": []
   },
   "outputs": [],
   "source": [
    "# this is the code for the GridSearchCV I used\n",
    "def find_best_params_gs(clf,param_grid,X, y):\n",
    "    gcv = GridSearchCV(clf,param_grid = param_grid,scoring =make_scorer(accuracy_score),cv = 10,verbose = 1,n_jobs = -1)\n",
    "    gcv.fit(X_train,y_train)\n",
    "    print(f\"{clf} model best params are: {gcv.best_params_}, and score is {gcv.best_score_}\")\n",
    "    return(gcv.best_params_,gcv.best_score_)\n",
    "#KNN_param_grid = {'n_neighbors': [1,3,5,7,9,11,13,15,17,19],'weights':['uniform', 'distance'],'algorithm':['ball_tree', 'kd_tree','brute']}\n",
    "#svm_param_grid = {'kernel':['linear','poly','sigmoid'],'degree':[2,3],'C': [0.1, 1, 10, 100], 'gamma': [1, 0.1]}#\n",
    "\n",
    "#lr_param_grid = {'penalty':[\"l1\",\"l2\", \"none\"],'C': [0.001,0.01,0.1,1,10,100],\"fit_intercept\":[True,False],\"solver\":['newton-cg', 'lbfgs', 'liblinear']}\n",
    "\n",
    "#xgb_param_grid = {\"learning_rate\":[0.1,0.5],\"n_estimators\":[50,100,250,500,1000,2500],\"subsample\":[0.6,0.8,1],'max_depth': [3,4,5,6,7,8,9,10]}\n",
    "#knn_parm,knn_score = find_best_params_gs(KNeighborsClassifier(),KNN_param_grid,X, y)\n",
    "#svm_parm,svm_score = find_best_params_gs(SVC(),svm_param_grid,X, y)\n",
    "#lr_parm,lr_score = find_best_params_gs(LogisticRegression(),lr_param_grid,X, y)\n",
    "#xgb_parm,xgb_score = find_best_params_gs(GradientBoostingClassifier(),xgb_param_grid,X, y)"
   ]
  },
  {
   "cell_type": "code",
   "execution_count": 35,
   "id": "cca8effe",
   "metadata": {
    "execution": {
     "iopub.execute_input": "2021-09-30T09:36:26.596518Z",
     "iopub.status.busy": "2021-09-30T09:36:26.595909Z",
     "iopub.status.idle": "2021-09-30T09:36:28.102477Z",
     "shell.execute_reply": "2021-09-30T09:36:28.102920Z",
     "shell.execute_reply.started": "2021-09-30T09:34:19.273626Z"
    },
    "papermill": {
     "duration": 1.559936,
     "end_time": "2021-09-30T09:36:28.103098",
     "exception": false,
     "start_time": "2021-09-30T09:36:26.543162",
     "status": "completed"
    },
    "tags": []
   },
   "outputs": [
    {
     "name": "stdout",
     "output_type": "stream",
     "text": [
      "GradientBoostingClassifier(n_estimators=50, subsample=1) cv acc after tune is : 0.8305742821473159\n",
      "LogisticRegression(C=1, solver='newton-cg') cv acc after tune is : 0.8103495630461923\n",
      "SVC(C=1, degree=2, gamma=0.1, kernel='poly') cv acc after tune is : 0.8148064918851435\n",
      "KNeighborsClassifier(algorithm='ball_tree', n_neighbors=13) cv acc after tune is : 0.8058551810237203\n",
      "voting acc after tune is:0.8379888268156425\n"
     ]
    }
   ],
   "source": [
    "knn_parm = {'algorithm': 'ball_tree', 'n_neighbors': 13}\n",
    "lr_parm = {'C': 1, 'fit_intercept': True, 'penalty': 'l2', 'solver': 'newton-cg'}\n",
    "svm_parm = {'C': 1, 'degree': 2, 'gamma': 0.1, 'kernel': 'poly'}\n",
    "xgb_parm = {'learning_rate': 0.1, 'max_depth': 3, 'n_estimators': 50, 'subsample': 1}\n",
    "\n",
    "xgb_model = GradientBoostingClassifier(**xgb_parm)\n",
    "lr_model = LogisticRegression(**lr_parm)\n",
    "svm_model = SVC(**svm_parm)\n",
    "KNN_model = KNeighborsClassifier(**knn_parm)\n",
    "estimator = [('xgb_model',xgb_model),('lr_model',lr_model),('svm_model',svm_model),('KNN_model',KNN_model)]\n",
    "vot = VotingClassifier(estimators = estimator, voting ='hard')\n",
    "vot.fit(X,y)\n",
    "\n",
    "\n",
    "for model in [xgb_model,lr_model,svm_model,KNN_model]:\n",
    "    print(f\"{model} cv acc after tune is : {cross_val_score(model,X,y,cv=10,scoring=make_scorer(accuracy_score)).mean()}\")\n",
    "\n",
    "y_pred = vot.predict(X_test)\n",
    "print(f\"voting acc after tune is:{accuracy_score(y_test, y_pred)}\")\n",
    "\n",
    "y_pred = vot.predict(test_data)\n",
    "sub = pd.DataFrame({\"Survived\":y_pred_sbu.astype(int),\"PassengerId\" : raw_data_test[\"PassengerId\"]})\n",
    "sub.to_csv('submission1.csv', index=False)\n"
   ]
  },
  {
   "cell_type": "markdown",
   "id": "a99dbf40",
   "metadata": {
    "papermill": {
     "duration": 0.05098,
     "end_time": "2021-09-30T09:36:28.204842",
     "exception": false,
     "start_time": "2021-09-30T09:36:28.153862",
     "status": "completed"
    },
    "tags": []
   },
   "source": [
    "let's do some hyperparamater tuning"
   ]
  }
 ],
 "metadata": {
  "kernelspec": {
   "display_name": "Python 3",
   "language": "python",
   "name": "python3"
  },
  "language_info": {
   "codemirror_mode": {
    "name": "ipython",
    "version": 3
   },
   "file_extension": ".py",
   "mimetype": "text/x-python",
   "name": "python",
   "nbconvert_exporter": "python",
   "pygments_lexer": "ipython3",
   "version": "3.7.10"
  },
  "papermill": {
   "default_parameters": {},
   "duration": 92.803931,
   "end_time": "2021-09-30T09:36:31.831321",
   "environment_variables": {},
   "exception": null,
   "input_path": "__notebook__.ipynb",
   "output_path": "__notebook__.ipynb",
   "parameters": {},
   "start_time": "2021-09-30T09:34:59.027390",
   "version": "2.3.3"
  }
 },
 "nbformat": 4,
 "nbformat_minor": 5
}
